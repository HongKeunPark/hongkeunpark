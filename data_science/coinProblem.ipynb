{
 "cells": [
  {
   "cell_type": "markdown",
   "id": "be9106cf-d2c8-4637-adb6-d19820cd39fe",
   "metadata": {},
   "source": [
    "## **Game Theory**\n",
    "\n",
    "Two people are flipping fair coins at the same time. What is the probability that person 1 flips 3 heads in a row before person 2 gets 2 heads in a row?\n",
    "\n",
    "\n",
    "Please simulate this problem to find the solution and give your answer with errors. So the answer should look something like probability +- error.\n",
    "\n",
    "\n",
    " * two people\n",
    " * coins\n",
    " * probability that 1 flips 3 heads in a row, before person 2 gets 2 heads in a row\n",
    " \n",
    " player01: 1 1 1\n",
    "   or\n",
    " player02: 0 1 1\n",
    " \n",
    " Probability: \n",
    " Player 1 = player01[1, 1, 1]\n",
    " \n",
    " \n",
    " Player 2 = ( 1 - player02[1, 1])\n",
    " \n",
    " Tie = player01[1, 1, 1] and player02[0, 1, 1]\n",
    " "
   ]
  },
  {
   "cell_type": "code",
   "execution_count": 1,
   "id": "e215a14f-381e-411f-8314-fe3a2f0b2ed0",
   "metadata": {},
   "outputs": [],
   "source": [
    "import numpy as np\n",
    "from random import randrange\n",
    "\n",
    "import pandas as pd\n",
    "from pandas import Series, DataFrame"
   ]
  },
  {
   "cell_type": "code",
   "execution_count": 2,
   "id": "43f66ba1-3ac8-4fec-ae29-5f155286a52b",
   "metadata": {},
   "outputs": [],
   "source": [
    "playerOne = []\n",
    "playerTwo = []\n",
    "tie = []\n"
   ]
  },
  {
   "cell_type": "code",
   "execution_count": 3,
   "id": "d1853e36-3fde-4c66-aa8c-a69ffdf441d1",
   "metadata": {},
   "outputs": [],
   "source": [
    "def coinThrow():\n",
    "    return randrange(2)"
   ]
  },
  {
   "cell_type": "code",
   "execution_count": 4,
   "id": "1fbab012-1bf6-48b4-a4bc-58d076201443",
   "metadata": {},
   "outputs": [],
   "source": [
    "def coinGame():\n",
    "    game = True\n",
    "    streakOne = 0\n",
    "    streakTwo = 0\n",
    "    \n",
    "    while game:\n",
    "        coin1 = coinThrow()\n",
    "        coin2 = coinThrow()\n",
    "        \n",
    "        # Check Player 1\n",
    "        if coin1 == 1:\n",
    "            streakOne += 1\n",
    "        else:\n",
    "            streakOne = 0\n",
    "        \n",
    "        # Check Player 2\n",
    "        if coin2 == 1:\n",
    "            streakTwo += 1\n",
    "        else:\n",
    "            streakTwo = 0\n",
    "        \n",
    "        # Check Tie\n",
    "        if streakOne == 3 and streakTwo == 2:\n",
    "            # Append Tie\n",
    "            playerOne.append(0)\n",
    "            playerTwo.append(0)\n",
    "            tie.append(1)\n",
    "            game = False\n",
    "            streakOne = 0\n",
    "            streakTwo = 0\n",
    "            break\n",
    "        elif streakOne == 3:\n",
    "            # Player 1 Wins\n",
    "            playerOne.append(1)\n",
    "            playerTwo.append(0)\n",
    "            tie.append(0)\n",
    "            game = False\n",
    "            streakOne = 0\n",
    "            streakTwo = 0\n",
    "            break\n",
    "        elif streakTwo == 2:\n",
    "            # Player 2 Wins\n",
    "            #dframe2 =  DataFrame({'Player 1': 0, 'Player 2': 1, 'Tie': 0}, index=[0])\n",
    "            #dframe.append(dframe2, ignore_index = True)\n",
    "            playerOne.append(0)\n",
    "            playerTwo.append(1)\n",
    "            tie.append(0)\n",
    "            game = False\n",
    "            streakOne = 0\n",
    "            streakTwo = 0\n",
    "            break\n",
    "        "
   ]
  },
  {
   "cell_type": "code",
   "execution_count": 5,
   "id": "9e7d9bdc-964f-4f85-b7dc-0c3f80fa06cb",
   "metadata": {},
   "outputs": [
    {
     "name": "stdout",
     "output_type": "stream",
     "text": [
      "10000\n",
      "10000\n",
      "10000\n"
     ]
    }
   ],
   "source": [
    "intLoop = 10000\n",
    "\n",
    "for i in range(intLoop):\n",
    "    coinGame()\n",
    "\n",
    "print(len(playerOne))\n",
    "print(len(playerTwo))\n",
    "print(len(tie))"
   ]
  },
  {
   "cell_type": "code",
   "execution_count": 6,
   "id": "13f8e411-d7a8-41c2-9a85-18fe156898cc",
   "metadata": {},
   "outputs": [
    {
     "data": {
      "text/html": [
       "<div>\n",
       "<style scoped>\n",
       "    .dataframe tbody tr th:only-of-type {\n",
       "        vertical-align: middle;\n",
       "    }\n",
       "\n",
       "    .dataframe tbody tr th {\n",
       "        vertical-align: top;\n",
       "    }\n",
       "\n",
       "    .dataframe thead th {\n",
       "        text-align: right;\n",
       "    }\n",
       "</style>\n",
       "<table border=\"1\" class=\"dataframe\">\n",
       "  <thead>\n",
       "    <tr style=\"text-align: right;\">\n",
       "      <th></th>\n",
       "      <th>Player 1</th>\n",
       "      <th>Player 2</th>\n",
       "      <th>Tie</th>\n",
       "    </tr>\n",
       "  </thead>\n",
       "  <tbody>\n",
       "    <tr>\n",
       "      <th>0</th>\n",
       "      <td>0</td>\n",
       "      <td>1</td>\n",
       "      <td>0</td>\n",
       "    </tr>\n",
       "    <tr>\n",
       "      <th>1</th>\n",
       "      <td>0</td>\n",
       "      <td>0</td>\n",
       "      <td>1</td>\n",
       "    </tr>\n",
       "    <tr>\n",
       "      <th>2</th>\n",
       "      <td>0</td>\n",
       "      <td>1</td>\n",
       "      <td>0</td>\n",
       "    </tr>\n",
       "    <tr>\n",
       "      <th>3</th>\n",
       "      <td>0</td>\n",
       "      <td>1</td>\n",
       "      <td>0</td>\n",
       "    </tr>\n",
       "    <tr>\n",
       "      <th>4</th>\n",
       "      <td>0</td>\n",
       "      <td>1</td>\n",
       "      <td>0</td>\n",
       "    </tr>\n",
       "    <tr>\n",
       "      <th>...</th>\n",
       "      <td>...</td>\n",
       "      <td>...</td>\n",
       "      <td>...</td>\n",
       "    </tr>\n",
       "    <tr>\n",
       "      <th>9995</th>\n",
       "      <td>0</td>\n",
       "      <td>1</td>\n",
       "      <td>0</td>\n",
       "    </tr>\n",
       "    <tr>\n",
       "      <th>9996</th>\n",
       "      <td>0</td>\n",
       "      <td>1</td>\n",
       "      <td>0</td>\n",
       "    </tr>\n",
       "    <tr>\n",
       "      <th>9997</th>\n",
       "      <td>0</td>\n",
       "      <td>1</td>\n",
       "      <td>0</td>\n",
       "    </tr>\n",
       "    <tr>\n",
       "      <th>9998</th>\n",
       "      <td>0</td>\n",
       "      <td>1</td>\n",
       "      <td>0</td>\n",
       "    </tr>\n",
       "    <tr>\n",
       "      <th>9999</th>\n",
       "      <td>1</td>\n",
       "      <td>0</td>\n",
       "      <td>0</td>\n",
       "    </tr>\n",
       "  </tbody>\n",
       "</table>\n",
       "<p>10000 rows × 3 columns</p>\n",
       "</div>"
      ],
      "text/plain": [
       "      Player 1  Player 2  Tie\n",
       "0            0         1    0\n",
       "1            0         0    1\n",
       "2            0         1    0\n",
       "3            0         1    0\n",
       "4            0         1    0\n",
       "...        ...       ...  ...\n",
       "9995         0         1    0\n",
       "9996         0         1    0\n",
       "9997         0         1    0\n",
       "9998         0         1    0\n",
       "9999         1         0    0\n",
       "\n",
       "[10000 rows x 3 columns]"
      ]
     },
     "execution_count": 6,
     "metadata": {},
     "output_type": "execute_result"
    }
   ],
   "source": [
    "dframe = DataFrame({'Player 1': playerOne, 'Player 2': playerTwo, 'Tie': tie})\n",
    "dframe"
   ]
  },
  {
   "cell_type": "code",
   "execution_count": 7,
   "id": "37ce6d0c-d0d2-4d2d-b1f1-f10361421edf",
   "metadata": {},
   "outputs": [
    {
     "name": "stdout",
     "output_type": "stream",
     "text": [
      "Probability of player 1 is: 0.2126\n",
      "Probability of player 2 is: 0.7376\n",
      "Probability of player 3 is: 0.0498\n"
     ]
    }
   ],
   "source": [
    "pro_player1 = sum(playerOne) / intLoop\n",
    "pro_player2 = sum(playerTwo) / intLoop\n",
    "pro_tie = sum(tie) / intLoop\n",
    "\n",
    "print('Probability of player 1 is: ' + str(pro_player1))\n",
    "print('Probability of player 2 is: ' + str(pro_player2))\n",
    "print('Probability of player 3 is: ' + str(pro_tie))"
   ]
  },
  {
   "cell_type": "markdown",
   "id": "c413acfa-c8a1-4700-be98-57d7ab4a410f",
   "metadata": {},
   "source": [
    "### Analysis:\n",
    "* Anlysis: Based on the collected data, I can conclude the probability of person 1 flips 3 heads in a row before person 2 gets 2 heads in a row is apprxomately 21.3% to 73.8%; where has 0.05% chance of getting tie."
   ]
  },
  {
   "cell_type": "code",
   "execution_count": null,
   "id": "edd6c2c6-472c-4edb-8309-68328fcbccb4",
   "metadata": {},
   "outputs": [],
   "source": []
  }
 ],
 "metadata": {
  "kernelspec": {
   "display_name": "Python 3 (ipykernel)",
   "language": "python",
   "name": "python3"
  },
  "language_info": {
   "codemirror_mode": {
    "name": "ipython",
    "version": 3
   },
   "file_extension": ".py",
   "mimetype": "text/x-python",
   "name": "python",
   "nbconvert_exporter": "python",
   "pygments_lexer": "ipython3",
   "version": "3.9.7"
  }
 },
 "nbformat": 4,
 "nbformat_minor": 5
}
