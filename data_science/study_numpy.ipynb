{
 "cells": [
  {
   "cell_type": "markdown",
   "id": "247d4f7a-ddd0-477d-ada6-2b18306e8785",
   "metadata": {},
   "source": [
    "### Numpy\n",
    " - Study note to demonstrate understandings of Numpy\n",
    " - press \"shift + tab\" to get help tools"
   ]
  },
  {
   "cell_type": "code",
   "execution_count": 1,
   "id": "93600867-261c-4537-958e-90a0e68cd1b6",
   "metadata": {},
   "outputs": [],
   "source": [
    "import numpy as np"
   ]
  },
  {
   "cell_type": "code",
   "execution_count": 8,
   "id": "236b1986-9ffa-40e1-9979-5894d3045c77",
   "metadata": {},
   "outputs": [],
   "source": [
    "# One-Dimensional Array"
   ]
  },
  {
   "cell_type": "code",
   "execution_count": 2,
   "id": "d0faa7a1-105d-4832-984d-e5e80ec6d547",
   "metadata": {},
   "outputs": [],
   "source": [
    "list_a = [ 1, 2, 3, 4, 5 ]"
   ]
  },
  {
   "cell_type": "code",
   "execution_count": 3,
   "id": "07de85e4-cd17-4095-913c-048c5723efc9",
   "metadata": {},
   "outputs": [
    {
     "data": {
      "text/plain": [
       "list"
      ]
     },
     "execution_count": 3,
     "metadata": {},
     "output_type": "execute_result"
    }
   ],
   "source": [
    "type( list_a )"
   ]
  },
  {
   "cell_type": "code",
   "execution_count": 4,
   "id": "4762a6f4-ccfc-40bf-89df-556507da106a",
   "metadata": {},
   "outputs": [
    {
     "data": {
      "text/plain": [
       "numpy.ndarray"
      ]
     },
     "execution_count": 4,
     "metadata": {},
     "output_type": "execute_result"
    }
   ],
   "source": [
    "list_a = np.array( list_a )\n",
    "type( list_a )"
   ]
  },
  {
   "cell_type": "code",
   "execution_count": 5,
   "id": "b0188d31-c439-468a-9cd9-e101f0835790",
   "metadata": {},
   "outputs": [
    {
     "data": {
      "text/plain": [
       "array([1, 2, 3, 4, 5])"
      ]
     },
     "execution_count": 5,
     "metadata": {},
     "output_type": "execute_result"
    }
   ],
   "source": [
    "list_a"
   ]
  },
  {
   "cell_type": "code",
   "execution_count": 9,
   "id": "7b424bda-92b0-4ee0-8221-4007188a3e30",
   "metadata": {},
   "outputs": [],
   "source": [
    "# Two-Dimensional Array"
   ]
  },
  {
   "cell_type": "code",
   "execution_count": 6,
   "id": "e1cf8f98-4a8a-4650-9b60-c856fe5058d1",
   "metadata": {},
   "outputs": [
    {
     "data": {
      "text/plain": [
       "numpy.ndarray"
      ]
     },
     "execution_count": 6,
     "metadata": {},
     "output_type": "execute_result"
    }
   ],
   "source": [
    "list_b = [ [ 1, 2, 3] , [ 4, 5, 6 ], [ 7, 8, 9 ]]\n",
    "list_b = np.array( list_b )\n",
    "type( list_b )"
   ]
  },
  {
   "cell_type": "code",
   "execution_count": 7,
   "id": "32fbdbbe-fc6f-40ee-9490-9b5bc40f3990",
   "metadata": {},
   "outputs": [
    {
     "data": {
      "text/plain": [
       "array([[1, 2, 3],\n",
       "       [4, 5, 6],\n",
       "       [7, 8, 9]])"
      ]
     },
     "execution_count": 7,
     "metadata": {},
     "output_type": "execute_result"
    }
   ],
   "source": [
    "list_b"
   ]
  },
  {
   "cell_type": "code",
   "execution_count": 10,
   "id": "091f065c-cc5a-4c01-87ea-349315547874",
   "metadata": {},
   "outputs": [
    {
     "data": {
      "text/plain": [
       "array([0, 1, 2, 3, 4, 5, 6, 7, 8, 9])"
      ]
     },
     "execution_count": 10,
     "metadata": {},
     "output_type": "execute_result"
    }
   ],
   "source": [
    "# Create Numpy array from 0 to 9 (exclude 10)\n",
    "list_c = np.arange( 0, 10 )\n",
    "list_c"
   ]
  },
  {
   "cell_type": "code",
   "execution_count": 12,
   "id": "b0e54c9b-1e68-47c2-8bc9-bbe8e91b6145",
   "metadata": {},
   "outputs": [
    {
     "data": {
      "text/plain": [
       "array([ 0,  5, 10, 15])"
      ]
     },
     "execution_count": 12,
     "metadata": {},
     "output_type": "execute_result"
    }
   ],
   "source": [
    "# Create Numpy array from 0 to 19 where increases by 5\n",
    "list_d = np.arange( 0, 20, 5 )\n",
    "list_d"
   ]
  },
  {
   "cell_type": "code",
   "execution_count": 13,
   "id": "eff7fa23-3437-48d5-a8ec-7dca388a8177",
   "metadata": {},
   "outputs": [
    {
     "data": {
      "text/plain": [
       "array([ 0,  5, 10, 15, 20])"
      ]
     },
     "execution_count": 13,
     "metadata": {},
     "output_type": "execute_result"
    }
   ],
   "source": [
    "# Create Numpy array from 0 to 20 where increases by 5\n",
    "list_d = np.arange( 0, 21, 5 )\n",
    "list_d"
   ]
  },
  {
   "cell_type": "code",
   "execution_count": 14,
   "id": "e2075e02-dcb0-4cff-9ffb-d950999320b1",
   "metadata": {},
   "outputs": [
    {
     "data": {
      "text/plain": [
       "array([0., 0., 0., 0., 0.])"
      ]
     },
     "execution_count": 14,
     "metadata": {},
     "output_type": "execute_result"
    }
   ],
   "source": [
    "# Create Numpy array from 0 to 5 where is defined by float\n",
    "list_e = np.zeros( 5 )\n",
    "list_e"
   ]
  },
  {
   "cell_type": "code",
   "execution_count": 17,
   "id": "9b4e6853-59e1-4a81-aab8-a55eb27c498d",
   "metadata": {},
   "outputs": [
    {
     "data": {
      "text/plain": [
       "array([[0., 0., 0., 0., 0., 0., 0., 0., 0., 0.],\n",
       "       [0., 0., 0., 0., 0., 0., 0., 0., 0., 0.],\n",
       "       [0., 0., 0., 0., 0., 0., 0., 0., 0., 0.],\n",
       "       [0., 0., 0., 0., 0., 0., 0., 0., 0., 0.],\n",
       "       [0., 0., 0., 0., 0., 0., 0., 0., 0., 0.]])"
      ]
     },
     "execution_count": 17,
     "metadata": {},
     "output_type": "execute_result"
    }
   ],
   "source": [
    "# Create Two-Dimensional Numpy array from 0s 5 rows by 10 columns\n",
    "list_e = np.zeros( ( 5, 10 ))\n",
    "list_e"
   ]
  },
  {
   "cell_type": "code",
   "execution_count": 18,
   "id": "005b7eba-d46b-4448-9093-e630a15adf61",
   "metadata": {},
   "outputs": [
    {
     "data": {
      "text/plain": [
       "array([[1., 1., 1.],\n",
       "       [1., 1., 1.]])"
      ]
     },
     "execution_count": 18,
     "metadata": {},
     "output_type": "execute_result"
    }
   ],
   "source": [
    "list_f = np.ones( ( 2, 3 ))\n",
    "list_f"
   ]
  },
  {
   "cell_type": "code",
   "execution_count": 19,
   "id": "caeb327f-5f4f-40d6-8e0b-e7d2e14450df",
   "metadata": {},
   "outputs": [
    {
     "data": {
      "text/plain": [
       "array([ 0. ,  2.5,  5. ,  7.5, 10. ])"
      ]
     },
     "execution_count": 19,
     "metadata": {},
     "output_type": "execute_result"
    }
   ],
   "source": [
    "# Provides linearly spaced numericals\n",
    "np.linspace( 0, 10, 5 )"
   ]
  },
  {
   "cell_type": "code",
   "execution_count": 20,
   "id": "879294a0-d824-405d-aff3-4ebdfc551797",
   "metadata": {},
   "outputs": [
    {
     "data": {
      "text/plain": [
       "array([ 0.        ,  0.90909091,  1.81818182,  2.72727273,  3.63636364,\n",
       "        4.54545455,  5.45454545,  6.36363636,  7.27272727,  8.18181818,\n",
       "        9.09090909, 10.        ])"
      ]
     },
     "execution_count": 20,
     "metadata": {},
     "output_type": "execute_result"
    }
   ],
   "source": [
    "# Provides linearly spaced numericals\n",
    "np.linspace( 0, 10, 12 )"
   ]
  },
  {
   "cell_type": "code",
   "execution_count": 21,
   "id": "c79a9ee1-d20b-44a1-ba9f-dfc68730d77d",
   "metadata": {},
   "outputs": [
    {
     "data": {
      "text/plain": [
       "array([[1., 0., 0., 0., 0., 0., 0.],\n",
       "       [0., 1., 0., 0., 0., 0., 0.],\n",
       "       [0., 0., 1., 0., 0., 0., 0.],\n",
       "       [0., 0., 0., 1., 0., 0., 0.],\n",
       "       [0., 0., 0., 0., 1., 0., 0.],\n",
       "       [0., 0., 0., 0., 0., 1., 0.],\n",
       "       [0., 0., 0., 0., 0., 0., 1.]])"
      ]
     },
     "execution_count": 21,
     "metadata": {},
     "output_type": "execute_result"
    }
   ],
   "source": [
    "# Identity Matrix\n",
    "np.eye( 7 )"
   ]
  },
  {
   "cell_type": "code",
   "execution_count": 23,
   "id": "e03827b3-3f43-4b48-9b31-eb20b7ee68fe",
   "metadata": {},
   "outputs": [
    {
     "data": {
      "text/plain": [
       "array([0.33508503, 0.22811682, 0.81927309, 0.6291048 , 0.36972645])"
      ]
     },
     "execution_count": 23,
     "metadata": {},
     "output_type": "execute_result"
    }
   ],
   "source": [
    "# Generate One-Dimensional array of random numbers\n",
    "np.random.rand( 5 )"
   ]
  },
  {
   "cell_type": "code",
   "execution_count": 26,
   "id": "a3571554-db05-4cda-9233-e905e429acb6",
   "metadata": {},
   "outputs": [
    {
     "data": {
      "text/plain": [
       "array([[0.42523269, 0.91051559, 0.70547914],\n",
       "       [0.83539486, 0.6161773 , 0.098376  ]])"
      ]
     },
     "execution_count": 26,
     "metadata": {},
     "output_type": "execute_result"
    }
   ],
   "source": [
    "# Generate Two-Dimensional ( 2 by 3 ) array of random numbers\n",
    "np.random.rand( 2, 3 )"
   ]
  },
  {
   "cell_type": "code",
   "execution_count": 30,
   "id": "34139f1d-954f-465d-92cc-604293a258d1",
   "metadata": {},
   "outputs": [
    {
     "data": {
      "text/plain": [
       "array([-1.95558316,  1.41539094,  0.42162231, -0.919878  , -2.60061874])"
      ]
     },
     "execution_count": 30,
     "metadata": {},
     "output_type": "execute_result"
    }
   ],
   "source": [
    "# Generate One-Dimensional random array of standard normal distribution --> values closer to 0\n",
    "np.random.randn( 5 )"
   ]
  },
  {
   "cell_type": "code",
   "execution_count": 31,
   "id": "3aebbc20-2225-4db7-8b68-e4d9713a353e",
   "metadata": {},
   "outputs": [
    {
     "data": {
      "text/plain": [
       "array([[-1.30740363,  1.78890793, -0.03955654],\n",
       "       [-1.26091035, -0.3750299 , -0.60599192]])"
      ]
     },
     "execution_count": 31,
     "metadata": {},
     "output_type": "execute_result"
    }
   ],
   "source": [
    "# Generate Two-Dimensional random array of standard normal distribution --> values closer to 0\n",
    "np.random.randn( 2, 3 )"
   ]
  },
  {
   "cell_type": "code",
   "execution_count": 33,
   "id": "d3fbaada-6f51-41e0-add8-3e241fe9c791",
   "metadata": {},
   "outputs": [
    {
     "data": {
      "text/plain": [
       "array([86, 78, 23, 83, 58])"
      ]
     },
     "execution_count": 33,
     "metadata": {},
     "output_type": "execute_result"
    }
   ],
   "source": [
    "# Generate random integers between 0 to 101\n",
    "np.random.randint( 0, 101, 5 )"
   ]
  },
  {
   "cell_type": "code",
   "execution_count": 35,
   "id": "9c7bc092-0040-4f11-a084-d3b78f89ec62",
   "metadata": {},
   "outputs": [
    {
     "data": {
      "text/plain": [
       "array([[58, 97, 46, 78, 13],\n",
       "       [14, 26, 73, 98,  3],\n",
       "       [35,  4, 79, 68, 93],\n",
       "       [81, 25, 75, 62, 84]])"
      ]
     },
     "execution_count": 35,
     "metadata": {},
     "output_type": "execute_result"
    }
   ],
   "source": [
    "# Generate random integers between 0 to 101 in Two-Dimensional Array\n",
    "np.random.randint( 0, 101, ( 4, 5 ))"
   ]
  },
  {
   "cell_type": "code",
   "execution_count": 37,
   "id": "579d0aa1-809d-4d62-b7c8-3803adce3b02",
   "metadata": {},
   "outputs": [
    {
     "data": {
      "text/plain": [
       "array([0.37454012, 0.95071431, 0.73199394, 0.59865848])"
      ]
     },
     "execution_count": 37,
     "metadata": {},
     "output_type": "execute_result"
    }
   ],
   "source": [
    "# Use same random number across - particluar set of random nums\n",
    "np.random.seed( 42 )\n",
    "np.random.rand( 4 )"
   ]
  },
  {
   "cell_type": "code",
   "execution_count": 39,
   "id": "95573fbf-3620-4f82-be63-8824f7d53de0",
   "metadata": {},
   "outputs": [
    {
     "data": {
      "text/plain": [
       "array([ 0,  1,  2,  3,  4,  5,  6,  7,  8,  9, 10, 11, 12, 13, 14, 15, 16,\n",
       "       17, 18, 19, 20, 21, 22, 23, 24])"
      ]
     },
     "execution_count": 39,
     "metadata": {},
     "output_type": "execute_result"
    }
   ],
   "source": [
    "arr = np.arange( 0, 25 )\n",
    "arr"
   ]
  },
  {
   "cell_type": "code",
   "execution_count": 43,
   "id": "c5b6e665-aa74-48ec-abfd-fa01c590cede",
   "metadata": {},
   "outputs": [
    {
     "data": {
      "text/plain": [
       "array([[ 0,  1,  2,  3,  4],\n",
       "       [ 5,  6,  7,  8,  9],\n",
       "       [10, 11, 12, 13, 14],\n",
       "       [15, 16, 17, 18, 19],\n",
       "       [20, 21, 22, 23, 24]])"
      ]
     },
     "execution_count": 43,
     "metadata": {},
     "output_type": "execute_result"
    }
   ],
   "source": [
    "# Reshape: HAS TO BE SAME SIZE --> 5 x 5 = 25\n",
    "arr.reshape( 5, 5 )"
   ]
  },
  {
   "cell_type": "code",
   "execution_count": 44,
   "id": "6158a045-fc27-4016-bbcc-facd6e9e951f",
   "metadata": {},
   "outputs": [
    {
     "data": {
      "text/plain": [
       "array([82, 86, 74, 74, 87, 99, 23,  2, 21, 52])"
      ]
     },
     "execution_count": 44,
     "metadata": {},
     "output_type": "execute_result"
    }
   ],
   "source": [
    "ranarr = np.random.randint( 0, 101, 10 )\n",
    "ranarr"
   ]
  },
  {
   "cell_type": "code",
   "execution_count": 48,
   "id": "cfff53ad-d369-432a-a5fd-b58e9685b721",
   "metadata": {},
   "outputs": [
    {
     "data": {
      "text/plain": [
       "99"
      ]
     },
     "execution_count": 48,
     "metadata": {},
     "output_type": "execute_result"
    }
   ],
   "source": [
    "# Get Max in list\n",
    "ranarr.max()"
   ]
  },
  {
   "cell_type": "code",
   "execution_count": 49,
   "id": "6c366ee6-4507-42f2-b085-06e95eddebec",
   "metadata": {},
   "outputs": [
    {
     "data": {
      "text/plain": [
       "2"
      ]
     },
     "execution_count": 49,
     "metadata": {},
     "output_type": "execute_result"
    }
   ],
   "source": [
    "# Get Min in list\n",
    "ranarr.min()"
   ]
  },
  {
   "cell_type": "code",
   "execution_count": 50,
   "id": "7d7b3dc5-15f2-4c80-8afe-92b72ce50b16",
   "metadata": {},
   "outputs": [
    {
     "data": {
      "text/plain": [
       "5"
      ]
     },
     "execution_count": 50,
     "metadata": {},
     "output_type": "execute_result"
    }
   ],
   "source": [
    "# Get index of Max in list\n",
    "ranarr.argmax()"
   ]
  },
  {
   "cell_type": "code",
   "execution_count": 51,
   "id": "24caec94-2697-4c34-b3cf-dc3b081e4720",
   "metadata": {},
   "outputs": [
    {
     "data": {
      "text/plain": [
       "7"
      ]
     },
     "execution_count": 51,
     "metadata": {},
     "output_type": "execute_result"
    }
   ],
   "source": [
    "# Get index of Min in list\n",
    "ranarr.argmin()"
   ]
  },
  {
   "cell_type": "code",
   "execution_count": 53,
   "id": "8b1b16b4-2a45-45a3-82ed-3b328b00255e",
   "metadata": {},
   "outputs": [
    {
     "data": {
      "text/plain": [
       "dtype('int32')"
      ]
     },
     "execution_count": 53,
     "metadata": {},
     "output_type": "execute_result"
    }
   ],
   "source": [
    "# Returns type of integer\n",
    "ranarr.dtype"
   ]
  },
  {
   "cell_type": "code",
   "execution_count": 55,
   "id": "1b8f2078-d183-487a-abc5-3e1cc571b118",
   "metadata": {},
   "outputs": [
    {
     "data": {
      "text/plain": [
       "(10,)"
      ]
     },
     "execution_count": 55,
     "metadata": {},
     "output_type": "execute_result"
    }
   ],
   "source": [
    "# Attribute - Get Shape Info\n",
    "ranarr.shape"
   ]
  },
  {
   "cell_type": "code",
   "execution_count": 57,
   "id": "dceaf87a-0550-409a-b8fd-762d0a450994",
   "metadata": {},
   "outputs": [
    {
     "data": {
      "text/plain": [
       "(5, 5)"
      ]
     },
     "execution_count": 57,
     "metadata": {},
     "output_type": "execute_result"
    }
   ],
   "source": [
    "arr = arr.reshape( 5, 5 )\n",
    "arr.shape"
   ]
  },
  {
   "cell_type": "code",
   "execution_count": 58,
   "id": "fb98eccc-92f2-428c-9b4e-a74188ada5de",
   "metadata": {},
   "outputs": [
    {
     "data": {
      "text/plain": [
       "(25, 1)"
      ]
     },
     "execution_count": 58,
     "metadata": {},
     "output_type": "execute_result"
    }
   ],
   "source": [
    "arr = arr.reshape( 25, 1 )\n",
    "arr.shape"
   ]
  },
  {
   "cell_type": "code",
   "execution_count": null,
   "id": "7fcdc717-ca8f-404b-8416-f257fdd8bbab",
   "metadata": {},
   "outputs": [],
   "source": []
  }
 ],
 "metadata": {
  "kernelspec": {
   "display_name": "Python 3 (ipykernel)",
   "language": "python",
   "name": "python3"
  },
  "language_info": {
   "codemirror_mode": {
    "name": "ipython",
    "version": 3
   },
   "file_extension": ".py",
   "mimetype": "text/x-python",
   "name": "python",
   "nbconvert_exporter": "python",
   "pygments_lexer": "ipython3",
   "version": "3.9.7"
  }
 },
 "nbformat": 4,
 "nbformat_minor": 5
}
