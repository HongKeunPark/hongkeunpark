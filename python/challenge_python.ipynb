{
 "cells": [
  {
   "cell_type": "markdown",
   "id": "03c2f0fb-721e-4d05-a6f0-31692d306dcb",
   "metadata": {},
   "source": [
    "#### 1. Write python code that will sory given numbers(array) by direction(string) - \"asc\", \"desc\", or \"none\""
   ]
  },
  {
   "cell_type": "code",
   "execution_count": 33,
   "id": "eef057a9-d141-4e7d-8ec4-7e9c27c9a044",
   "metadata": {},
   "outputs": [],
   "source": [
    "def sort_numbers( numbers, direction ):\n",
    "    # Numbers will be an array of numbers / Direction will be \"asc\", \"desc\", or \"none\"\n",
    "    \n",
    "    # 1. Checks if numbers are array & direction is in string\n",
    "    if not isinstance( numbers, list ):\n",
    "        print( \"Error: Input NUMBERS is not a list\" )\n",
    "        return numbers\n",
    "    if not all( isinstance( num, ( int, float )) for num in numbers ):\n",
    "        print( \"Error: Input NUMBERS ARRAY is not an integer or float\" )\n",
    "        return numbers\n",
    "    if not isinstance( direction, str ):\n",
    "        print( \"Error: Input DIRECTION is not a string\" )\n",
    "        return numbers\n",
    "    \n",
    "    # 2. Set the direction to the list of numbers\n",
    "    direction = direction.lower()\n",
    "    if( direction == \"asc\" ):\n",
    "        numbers.sort()\n",
    "    elif( direction == \"desc\" ):\n",
    "        numbers.sort( reverse = True )\n",
    "    elif( direction == \"none\" ):\n",
    "        pass\n",
    "    else:\n",
    "        print( \"Given direction is NOT ASC, DESC, OR NONE\" )\n",
    "    \n",
    "    # 3. Return sorted list of numbers by direction given\n",
    "    return numbers"
   ]
  },
  {
   "cell_type": "code",
   "execution_count": 34,
   "id": "bc8aba5b-a3e6-416c-8331-9e03ea1d7f1c",
   "metadata": {},
   "outputs": [],
   "source": [
    "num_list = [ 5, 2, 8, 1, 9 ]"
   ]
  },
  {
   "cell_type": "code",
   "execution_count": 35,
   "id": "3aa090f3-81aa-4017-9ec3-8f740fcde0e3",
   "metadata": {},
   "outputs": [
    {
     "name": "stdout",
     "output_type": "stream",
     "text": [
      "[1, 2, 5, 8, 9]\n"
     ]
    }
   ],
   "source": [
    "print( sort_numbers( num_list, \"asc\" ))"
   ]
  },
  {
   "cell_type": "code",
   "execution_count": 36,
   "id": "881ef59b-4d4c-41f2-8d77-b4ab480458ce",
   "metadata": {},
   "outputs": [
    {
     "name": "stdout",
     "output_type": "stream",
     "text": [
      "[9, 8, 5, 2, 1]\n"
     ]
    }
   ],
   "source": [
    "print( sort_numbers( num_list, \"desc\" ))"
   ]
  },
  {
   "cell_type": "code",
   "execution_count": 37,
   "id": "26a6d5bd-ddf2-447c-8062-4c0f56d34c85",
   "metadata": {},
   "outputs": [
    {
     "name": "stdout",
     "output_type": "stream",
     "text": [
      "Error: Input DIRECTION is not a string\n",
      "[9, 8, 5, 2, 1]\n"
     ]
    }
   ],
   "source": [
    "print( sort_numbers( num_list, 5 ))"
   ]
  },
  {
   "cell_type": "code",
   "execution_count": 40,
   "id": "cd7e8342-675f-4903-8fa2-d53bf5727d9a",
   "metadata": {},
   "outputs": [
    {
     "name": "stdout",
     "output_type": "stream",
     "text": [
      "[5, 2, 8.1, 1, 9]\n"
     ]
    }
   ],
   "source": [
    "num_list = [ 5, 2, 8.1, 1, 9 ]\n",
    "print( sort_numbers( num_list, \"NONE\" ))"
   ]
  },
  {
   "cell_type": "code",
   "execution_count": 42,
   "id": "e83277cd-8ba9-4eb3-9c26-0d2ad2aad96f",
   "metadata": {},
   "outputs": [
    {
     "name": "stdout",
     "output_type": "stream",
     "text": [
      "Error: Input NUMBERS ARRAY is not an integer or float\n",
      "[5, 2, '8', 1, 9]\n"
     ]
    }
   ],
   "source": [
    "num_list = [ 5, 2, '8', 1, 9 ]\n",
    "print( sort_numbers( num_list, \"asc\" ))"
   ]
  },
  {
   "cell_type": "code",
   "execution_count": 43,
   "id": "8ccaca53-3412-43f7-ba69-09b4a6c86e14",
   "metadata": {},
   "outputs": [
    {
     "name": "stdout",
     "output_type": "stream",
     "text": [
      "Error: Input NUMBERS ARRAY is not an integer or float\n",
      "[5, 2, '8', 1, 9]\n"
     ]
    }
   ],
   "source": [
    "print( sort_numbers( num_list, 5 ))"
   ]
  },
  {
   "cell_type": "markdown",
   "id": "53c52c16-afa4-4a71-bc7a-55744ec49793",
   "metadata": {},
   "source": [
    "#### 2. Write python code that will convert radian to degree vice versa"
   ]
  },
  {
   "cell_type": "code",
   "execution_count": 1,
   "id": "de927281-d95d-4e8d-9ec8-02c4881e6162",
   "metadata": {},
   "outputs": [],
   "source": [
    "import math\n",
    "\n",
    "# Function to convert radians to degrees\n",
    "def radians_to_degrees(radians):\n",
    "    degrees = radians * 180 / math.pi\n",
    "    return degrees\n",
    "\n",
    "# Function to convert degrees to radians\n",
    "def degrees_to_radians(degrees):\n",
    "    radians = degrees * math.pi / 180\n",
    "    return radians"
   ]
  },
  {
   "cell_type": "code",
   "execution_count": 4,
   "id": "a978d375-7af1-49c2-8c34-59361f9a5b78",
   "metadata": {},
   "outputs": [
    {
     "name": "stdout",
     "output_type": "stream",
     "text": [
      "2.5 radians is equal to 143.2394487827058 degrees\n",
      "143.2394487827058 degrees is equal to 2.5 radians\n"
     ]
    }
   ],
   "source": [
    "# Example usage:\n",
    "radians_value = 2.5  # Replace with the radians value you want to convert\n",
    "\n",
    "# Convert radians to degrees\n",
    "converted_degrees = radians_to_degrees(radians_value)\n",
    "print(f\"{radians_value} radians is equal to {converted_degrees} degrees\")\n",
    "\n",
    "# Convert degrees to radians\n",
    "print(f\"{converted_degrees} degrees is equal to {radians_value} radians\")"
   ]
  },
  {
   "cell_type": "markdown",
   "id": "3851f9be-3eae-4052-94fc-cf58bb6c785f",
   "metadata": {},
   "source": [
    "#### 3. Counts Vowels in a STRING"
   ]
  },
  {
   "cell_type": "code",
   "execution_count": 7,
   "id": "d4443e8d-d1d1-40f4-9166-6dd63261d854",
   "metadata": {},
   "outputs": [],
   "source": [
    "import pandas as pd\n",
    "\n",
    "# Function to count vowels in a string\n",
    "def count_vowels(input_string):\n",
    "    # Check if input_string is string\n",
    "    if not isinstance( input_string, str ):\n",
    "        print( \"Error: Input DIRECTION is not a string\" )\n",
    "        return numbers\n",
    "    \n",
    "    # Convert input_string to lower-case\n",
    "    input_string = input_string.lower()\n",
    "    \n",
    "    # Take account both upper and lower cases\n",
    "    vowels = \"aeiou\"\n",
    "    \n",
    "    vowel_count = {vowel: 0 for vowel in vowels}\n",
    "    \n",
    "    for char in input_string:\n",
    "        if char in vowels:\n",
    "            vowel_count[char] += 1\n",
    "    \n",
    "    return vowel_count"
   ]
  },
  {
   "cell_type": "code",
   "execution_count": 9,
   "id": "c71d8751-f8a2-41e8-8653-06f8a0ca7a86",
   "metadata": {},
   "outputs": [
    {
     "data": {
      "text/html": [
       "<div>\n",
       "<style scoped>\n",
       "    .dataframe tbody tr th:only-of-type {\n",
       "        vertical-align: middle;\n",
       "    }\n",
       "\n",
       "    .dataframe tbody tr th {\n",
       "        vertical-align: top;\n",
       "    }\n",
       "\n",
       "    .dataframe thead th {\n",
       "        text-align: right;\n",
       "    }\n",
       "</style>\n",
       "<table border=\"1\" class=\"dataframe\">\n",
       "  <thead>\n",
       "    <tr style=\"text-align: right;\">\n",
       "      <th></th>\n",
       "      <th>Vowel</th>\n",
       "      <th>Count</th>\n",
       "    </tr>\n",
       "  </thead>\n",
       "  <tbody>\n",
       "    <tr>\n",
       "      <th>0</th>\n",
       "      <td>a</td>\n",
       "      <td>2</td>\n",
       "    </tr>\n",
       "    <tr>\n",
       "      <th>1</th>\n",
       "      <td>e</td>\n",
       "      <td>4</td>\n",
       "    </tr>\n",
       "    <tr>\n",
       "      <th>2</th>\n",
       "      <td>i</td>\n",
       "      <td>4</td>\n",
       "    </tr>\n",
       "    <tr>\n",
       "      <th>3</th>\n",
       "      <td>o</td>\n",
       "      <td>3</td>\n",
       "    </tr>\n",
       "    <tr>\n",
       "      <th>4</th>\n",
       "      <td>u</td>\n",
       "      <td>0</td>\n",
       "    </tr>\n",
       "  </tbody>\n",
       "</table>\n",
       "</div>"
      ],
      "text/plain": [
       "  Vowel  Count\n",
       "0     a      2\n",
       "1     e      4\n",
       "2     i      4\n",
       "3     o      3\n",
       "4     u      0"
      ]
     },
     "execution_count": 9,
     "metadata": {},
     "output_type": "execute_result"
    }
   ],
   "source": [
    "# Input string\n",
    "input_string = \"Hello, this is a sample string with some vowels.\"\n",
    "\n",
    "# Count vowels in the input string\n",
    "vowel_count = count_vowels(input_string)\n",
    "\n",
    "# Create a Pandas DataFrame\n",
    "df = pd.DataFrame(list(vowel_count.items()), columns=[\"Vowel\", \"Count\"])\n",
    "\n",
    "# Display the DataFrame\n",
    "df"
   ]
  },
  {
   "cell_type": "markdown",
   "id": "59cba714-b38b-45cc-9abd-fc7dacc09cc1",
   "metadata": {},
   "source": [
    "#### 4. Create a Python function named \"get_integers\" that accepts a list of mixed non-negative integers and strings. The function should filter and return only the integers in the same order as they appear in the original list."
   ]
  },
  {
   "cell_type": "code",
   "execution_count": 17,
   "id": "a83f5525-92f3-40bc-a9f0-cf058111634c",
   "metadata": {},
   "outputs": [],
   "source": [
    "def get_integers(mixed_list):\n",
    "    result = [ x for x in mixed_list if isinstance( x, int ) ]\n",
    "    return result"
   ]
  },
  {
   "cell_type": "code",
   "execution_count": 18,
   "id": "a2a07c5f-3211-4ba3-bb50-f87f01ae86e7",
   "metadata": {},
   "outputs": [
    {
     "name": "stdout",
     "output_type": "stream",
     "text": [
      "[1, 3, 5, 7]\n"
     ]
    }
   ],
   "source": [
    "# Example usage:\n",
    "mixed_list = [1, \"apple\", 3, \"banana\", 5, \"cherry\", 7]\n",
    "integers_only = get_integers(mixed_list)\n",
    "print(integers_only)"
   ]
  },
  {
   "cell_type": "markdown",
   "id": "d0a73264-0826-4b79-b149-1308444f2b9a",
   "metadata": {},
   "source": [
    "#### 5. Python function that will return mean, median, mode, and range in given list."
   ]
  },
  {
   "cell_type": "code",
   "execution_count": 19,
   "id": "2a92b746-0b45-4daa-b570-e18db00d5528",
   "metadata": {},
   "outputs": [],
   "source": [
    "import statistics\n",
    "\n",
    "def calculate_statistics( numbers ):\n",
    "    # Check if the given list is numbers only\n",
    "    if not isinstance( numbers, list ):\n",
    "        print( \"Error: Input NUMBERS is not a list\" )\n",
    "        return numbers\n",
    "    if not all( isinstance( num, ( int, float )) for num in numbers ):\n",
    "        print( \"Error: Input NUMBERS ARRAY is not an integer or float\" )\n",
    "        return numbers\n",
    "    \n",
    "    # Calculate mean, median, and mode\n",
    "    mean = statistics.mean(numbers)\n",
    "    median = statistics.median(numbers)\n",
    "    mode = statistics.mode(numbers)\n",
    "\n",
    "    # Calculate the range\n",
    "    num_range = max(numbers) - min(numbers)\n",
    "\n",
    "    return mean, median, mode, num_range"
   ]
  },
  {
   "cell_type": "code",
   "execution_count": 20,
   "id": "302f2409-9357-453d-a5e5-7f7bc16bd375",
   "metadata": {},
   "outputs": [
    {
     "name": "stdout",
     "output_type": "stream",
     "text": [
      "Mean: 3.5\n",
      "Median: 3.5\n",
      "Mode: 2\n",
      "Range: 5\n"
     ]
    }
   ],
   "source": [
    "# Example usage:\n",
    "number_list = [1, 2, 2, 3, 4, 5, 5, 6]\n",
    "mean, median, mode, num_range = calculate_statistics(number_list)\n",
    "\n",
    "print(f\"Mean: {mean}\")\n",
    "print(f\"Median: {median}\")\n",
    "print(f\"Mode: {mode}\")\n",
    "print(f\"Range: {num_range}\")"
   ]
  },
  {
   "cell_type": "code",
   "execution_count": null,
   "id": "43359d59-8732-400b-84cc-19de1754efb4",
   "metadata": {},
   "outputs": [
    {
     "name": "stdout",
     "output_type": "stream",
     "text": [
      "4\n"
     ]
    }
   ],
   "source": [
    "n = 24\n",
    "l = 0\n",
    "r = 100\n",
    "ans = n\n",
    "while l <= r:\n",
    "    mid = (l + r) // 2\n",
    "    if mid * mid <= n:\n",
    "        ans = mid\n",
    "        l = mid + 1\n",
    "    else:\n",
    "        r = mid - 1\n",
    "print(ans)"
   ]
  },
  {
   "cell_type": "code",
   "execution_count": 2,
   "id": "79a2e109-643d-4f75-94ac-5454a7e9f18e",
   "metadata": {},
   "outputs": [],
   "source": [
    "def getToLowerCase( str ):\n",
    "    return str.lower()"
   ]
  },
  {
   "cell_type": "code",
   "execution_count": 3,
   "id": "9089becb-32ba-40fd-9fd4-81c0ce547d3d",
   "metadata": {},
   "outputs": [
    {
     "data": {
      "text/plain": [
       "'wtf is going on? idk haha'"
      ]
     },
     "execution_count": 3,
     "metadata": {},
     "output_type": "execute_result"
    }
   ],
   "source": [
    "getToLowerCase( \"WTF IS GOING ON? Idk haha\" )"
   ]
  },
  {
   "cell_type": "code",
   "execution_count": 7,
   "id": "c4c8312e-ee35-4f2b-8bc0-082545311016",
   "metadata": {},
   "outputs": [],
   "source": [
    "def checkIfAlpha( smting ):\n",
    "    return smting.isalpha()"
   ]
  },
  {
   "cell_type": "code",
   "execution_count": 8,
   "id": "d90cf87f-14b6-4156-bc1b-bf14f8c65f1a",
   "metadata": {},
   "outputs": [
    {
     "data": {
      "text/plain": [
       "True"
      ]
     },
     "execution_count": 8,
     "metadata": {},
     "output_type": "execute_result"
    }
   ],
   "source": [
    "checkIfAlpha( \"Alpha\" )"
   ]
  },
  {
   "cell_type": "code",
   "execution_count": 3,
   "id": "decf5463-fd24-4a3a-b4cf-64b1fd336033",
   "metadata": {},
   "outputs": [
    {
     "name": "stdout",
     "output_type": "stream",
     "text": [
      "cats And*Dogs-Are Awesome\n"
     ]
    }
   ],
   "source": [
    "def StringChallenge(str):\n",
    "    # Initialize the result string with the first character (not capitalized)\n",
    "    result_str = str[0].lower()\n",
    "    \n",
    "    # Flag to track if the current character should be capitalized\n",
    "    capitalize_next = False\n",
    "\n",
    "    # Iterate through each character starting from the second character\n",
    "    for char in str[1:]:\n",
    "        # Check if the character is alphabetic\n",
    "        if char.isalpha():\n",
    "            # If it's alphabetic and we should capitalize it, do so\n",
    "            if capitalize_next:\n",
    "                result_str += char.upper()\n",
    "                capitalize_next = False\n",
    "            else:\n",
    "                result_str += char.lower()\n",
    "        else:\n",
    "            # Non-alphabetic characters are preserved as they are\n",
    "            result_str += char\n",
    "            # Set the flag to capitalize the next alphabetic character\n",
    "            capitalize_next = True\n",
    "\n",
    "    return result_str\n",
    "\n",
    "# Example usage:\n",
    "input_str = \"cats AND*Dogs-are Awesome\"\n",
    "output_str = StringChallenge(input_str)\n",
    "print(output_str)"
   ]
  },
  {
   "cell_type": "code",
   "execution_count": 6,
   "id": "ef18a561-95c7-4a28-955c-9e958d3952fe",
   "metadata": {},
   "outputs": [
    {
     "name": "stdout",
     "output_type": "stream",
     "text": [
      "tExampleString\n"
     ]
    }
   ],
   "source": [
    "import re\n",
    "\n",
    "def StringChallenge(str):\n",
    "    # Split the input string into words using the specified delimiters\n",
    "    words = re.split(r'[!@#$%^&*() ]+', str)\n",
    "    \n",
    "    # Initialize the result string with the first character (not capitalized)\n",
    "    result_str = str[0]\n",
    "    \n",
    "    # Iterate through the rest of the words\n",
    "    for word in words[1:]:\n",
    "        # Capitalize the first letter of each word\n",
    "        if len(word) > 0:\n",
    "            result_str += word[0].upper() + word[1:]\n",
    "    \n",
    "    return result_str\n",
    "\n",
    "# Example usage:\n",
    "input_str = \"this_is_an!example$string\"\n",
    "output_str = StringChallenge(input_str)\n",
    "print(output_str)"
   ]
  },
  {
   "cell_type": "code",
   "execution_count": null,
   "id": "c5161082-8bad-4189-870d-c5de0744f7d5",
   "metadata": {},
   "outputs": [],
   "source": []
  }
 ],
 "metadata": {
  "kernelspec": {
   "display_name": "Python 3 (ipykernel)",
   "language": "python",
   "name": "python3"
  },
  "language_info": {
   "codemirror_mode": {
    "name": "ipython",
    "version": 3
   },
   "file_extension": ".py",
   "mimetype": "text/x-python",
   "name": "python",
   "nbconvert_exporter": "python",
   "pygments_lexer": "ipython3",
   "version": "3.9.7"
  }
 },
 "nbformat": 4,
 "nbformat_minor": 5
}
