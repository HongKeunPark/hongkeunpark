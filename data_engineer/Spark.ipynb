{
 "cells": [
  {
   "cell_type": "markdown",
   "id": "a4dafe52-6372-4ad2-b808-43968d4ccf3b",
   "metadata": {},
   "source": [
    "# Adventure Works Database\n",
    "**TODO:**\n",
    " * Make connection from pyspark to local SQL server to retreive data - Adventureworks 2017\n"
   ]
  },
  {
   "cell_type": "markdown",
   "id": "f0660c72-7a3b-47d8-8787-4f53fa32283f",
   "metadata": {},
   "source": [
    "## Data Diagram\n",
    "![DIAGRAM](adventureworks_person.PNG)\n",
    "\n",
    "Source: https://dataedo.com/download/AdventureWorks.pdf"
   ]
  },
  {
   "cell_type": "markdown",
   "id": "c8a7292a-1529-4876-bcca-79c196612d3e",
   "metadata": {},
   "source": [
    "## Data Retreival ( Extract )\n",
    "\n",
    "Data is stored in local SQL. I will be retreiving the data through making JDBC connection. In the process, appropriate user IDs & PWs used to gain access to make connection.\n",
    "\n",
    " * Make connection\n",
    " * Retreive data\n",
    " * Present data\n",
    "\n",
    "***Other notes***\n",
    " * Make sure to check your Java version to use appropriate MySQL JDBC jar file"
   ]
  },
  {
   "cell_type": "code",
   "execution_count": 1,
   "id": "bba3d8a0-7414-44c6-b0a1-e9c4d5b613f8",
   "metadata": {},
   "outputs": [],
   "source": [
    "import pyodbc \n",
    "\n",
    "\n",
    "import pandas as pd\n",
    "from tqdm import tqdm"
   ]
  },
  {
   "cell_type": "code",
   "execution_count": 3,
   "id": "2765d663-e991-4d84-95a9-32d8f91907ce",
   "metadata": {},
   "outputs": [],
   "source": [
    "import pyspark\n",
    "\n",
    "from pyspark.sql import SparkSession\n",
    "from pyspark.sql.functions import col,length,trim\n",
    "from pyspark import SparkContext, SparkConf, SQLContext"
   ]
  },
  {
   "cell_type": "code",
   "execution_count": 4,
   "id": "42f2c63a-0c43-41e6-8749-60983758b8ba",
   "metadata": {},
   "outputs": [],
   "source": [
    "import os\n",
    "def find():\n",
    "    spark_home = os.environ.get('SPARK_HOME', None)\n",
    "    print(spark_home)\n",
    "\n",
    "    if not spark_home:\n",
    "        for path in [\n",
    "            '/usr/local/opt/apache-spark/libexec', # OS X Homebrew\n",
    "            '/usr/lib/spark/' # AWS Amazon EMR\n",
    "            # Any other common places to look?\n",
    "        ]:\n",
    "            if os.path.exists(path):\n",
    "                spark_home = path\n",
    "                break\n",
    "\n",
    "    if not spark_home:\n",
    "        raise ValueError(\"Couldn't find Spark, make sure SPARK_HOME env is set\"\n",
    "                         \" or Spark is in an expected location (e.g. from homebrew installation).\")\n",
    "\n",
    "    return spark_home"
   ]
  },
  {
   "cell_type": "code",
   "execution_count": 5,
   "id": "6446ad3b-133d-464e-850e-8891ebec11c9",
   "metadata": {},
   "outputs": [
    {
     "name": "stdout",
     "output_type": "stream",
     "text": [
      "C:\\spark\n",
      "C:\\spark\n"
     ]
    }
   ],
   "source": [
    "print( find() )"
   ]
  },
  {
   "cell_type": "code",
   "execution_count": 6,
   "id": "5bc60bf7-283f-4e1c-ab28-34020ac53ce0",
   "metadata": {},
   "outputs": [],
   "source": [
    "appName = \"PySpark SQL Server - JDBC\"\n",
    "master = \"local\"\n",
    "conf = SparkConf() \\\n",
    "    .setAppName( appName ) \\\n",
    "    .setMaster( master ) \\\n",
    "    .set( \"spark.driver.extraClassPath\", \"mssql-jdbc-8.2.2.jre8.jar\" )\n"
   ]
  },
  {
   "cell_type": "code",
   "execution_count": 7,
   "id": "c4c04077-13b3-4739-bf76-df886fa17cae",
   "metadata": {},
   "outputs": [],
   "source": [
    "PYSPARK_ALLOW_INSECURE_GATEWAY=1"
   ]
  },
  {
   "cell_type": "code",
   "execution_count": 8,
   "id": "22d5fcb2-a80e-4020-9116-7286a4f5ca6a",
   "metadata": {},
   "outputs": [
    {
     "name": "stderr",
     "output_type": "stream",
     "text": [
      "C:\\Users\\hkpar\\anaconda3\\lib\\site-packages\\pyspark\\sql\\context.py:77: FutureWarning: Deprecated in 3.0.0. Use SparkSession.builder.getOrCreate() instead.\n",
      "  warnings.warn(\n"
     ]
    }
   ],
   "source": [
    "sc = SparkContext( conf = conf )\n",
    "sqlContext = SQLContext( sc )\n"
   ]
  },
  {
   "cell_type": "code",
   "execution_count": 9,
   "id": "feb48a5b-17f4-49ff-9b46-e5e7269d9016",
   "metadata": {},
   "outputs": [],
   "source": [
    "spark = sqlContext.sparkSession"
   ]
  },
  {
   "cell_type": "code",
   "execution_count": 10,
   "id": "684de514-e81d-4ff9-9f29-fb30f09546cc",
   "metadata": {},
   "outputs": [],
   "source": [
    "import findspark\n",
    "findspark.add_packages( 'mysql:mysql-connector-java:8.2.2' )"
   ]
  },
  {
   "cell_type": "code",
   "execution_count": 11,
   "id": "cc3a8bc4-6e45-4a4b-a4b7-3067f38dc83b",
   "metadata": {},
   "outputs": [],
   "source": [
    "# C:\\Users\\hkpar\n",
    "filename = \"C:/Users/hkpar/authentication/mysql.txt\"\n",
    "with open( filename ) as f:\n",
    "    lines = f.read().splitlines() \n",
    "\n",
    "if( len( lines ) == 2 ):\n",
    "    user = lines[0]\n",
    "    password = lines[1]\n",
    "else:\n",
    "    print( 'USERNAME and PASSWORD CORRUPTION ERROR' )\n",
    "    raise ValueError( 'USERNAME and PASSWORD CORRUPTION ERROR' )\n",
    "# f.close()"
   ]
  },
  {
   "cell_type": "code",
   "execution_count": 12,
   "id": "02021fe2-7810-44a3-b2ad-847ba6d6fa7b",
   "metadata": {},
   "outputs": [],
   "source": [
    "database = \"AdventureWorks2017\""
   ]
  },
  {
   "cell_type": "code",
   "execution_count": 13,
   "id": "1bc8cca7-f717-45c4-838d-6775e54acadc",
   "metadata": {},
   "outputs": [],
   "source": [
    "\"\"\"\n",
    "Function: getTable()\n",
    "\n",
    "Description:\n",
    "    Returns the dataframe of the table name\n",
    "\n",
    "Parametres: table (String)\n",
    "Return: DataFrame (Spark)\n",
    "\"\"\"\n",
    "\n",
    "def getTable( table ):\n",
    "    df_table = spark.read.format( \"jdbc\" ) \\\n",
    "        .option( \"url\", f\"jdbc:sqlserver://localhost:1433;databaseName={database}\" ) \\\n",
    "        .option( \"dbtable\", table ) \\\n",
    "        .option( \"user\", user ) \\\n",
    "        .option( \"password\", password ) \\\n",
    "        .option( \"driver\", \"com.microsoft.sqlserver.jdbc.SQLServerDriver\" ) \\\n",
    "        .load()\n",
    "\n",
    "    return df_table"
   ]
  },
  {
   "cell_type": "code",
   "execution_count": 14,
   "id": "9bdcb04b-2099-4e5e-89bc-201b2bf6ae69",
   "metadata": {},
   "outputs": [],
   "source": [
    "df_p = getTable( \"Person.Person\" )\n",
    "df_pPhone = getTable( \"Person.PersonPhone\" )\n",
    "df_pEmail = getTable( \"Person.EmailAddress\" )"
   ]
  },
  {
   "cell_type": "code",
   "execution_count": 15,
   "id": "2385a9d8-db34-4fa3-8eff-c4d6420d8278",
   "metadata": {},
   "outputs": [
    {
     "name": "stdout",
     "output_type": "stream",
     "text": [
      "+----------------+----------+---------+-----+---------+----------+----------+------+--------------+---------------------+--------------------+--------------------+-------------------+\n",
      "|BusinessEntityID|PersonType|NameStyle|Title|FirstName|MiddleName|  LastName|Suffix|EmailPromotion|AdditionalContactInfo|        Demographics|             rowguid|       ModifiedDate|\n",
      "+----------------+----------+---------+-----+---------+----------+----------+------+--------------+---------------------+--------------------+--------------------+-------------------+\n",
      "|               1|        EM|    false| null|      Ken|         J|   Sánchez|  null|             0|                 null|<IndividualSurvey...|92C4279F-1207-48A...|2009-01-07 00:00:00|\n",
      "|               2|        EM|    false| null|    Terri|       Lee|     Duffy|  null|             1|                 null|<IndividualSurvey...|D8763459-8AA8-47C...|2008-01-24 00:00:00|\n",
      "|               3|        EM|    false| null|  Roberto|      null|Tamburello|  null|             0|                 null|<IndividualSurvey...|E1A2555E-0828-434...|2007-11-04 00:00:00|\n",
      "|               4|        EM|    false| null|      Rob|      null|   Walters|  null|             0|                 null|<IndividualSurvey...|F2D7CE06-38B3-435...|2007-11-28 00:00:00|\n",
      "|               5|        EM|    false|  Ms.|     Gail|         A|  Erickson|  null|             0|                 null|<IndividualSurvey...|F3A3F6B4-AE3B-430...|2007-12-30 00:00:00|\n",
      "|               6|        EM|    false|  Mr.|   Jossef|         H|  Goldberg|  null|             0|                 null|<IndividualSurvey...|0DEA28FD-EFFE-482...|2013-12-16 00:00:00|\n",
      "|               7|        EM|    false| null|    Dylan|         A|    Miller|  null|             2|                 null|<IndividualSurvey...|C45E8AB8-01BE-4B7...|2009-02-01 00:00:00|\n",
      "|               8|        EM|    false| null|    Diane|         L|  Margheim|  null|             0|                 null|<IndividualSurvey...|A948E590-4A56-45A...|2008-12-22 00:00:00|\n",
      "|               9|        EM|    false| null|     Gigi|         N|   Matthew|  null|             0|                 null|<IndividualSurvey...|5FC28C0E-6D36-425...|2009-01-09 00:00:00|\n",
      "|              10|        EM|    false| null|  Michael|      null|    Raheem|  null|             2|                 null|<IndividualSurvey...|CA2C740E-75B2-420...|2009-04-26 00:00:00|\n",
      "|              11|        EM|    false| null|   Ovidiu|         V|   Cracium|  null|             0|                 null|<IndividualSurvey...|D2CC2577-EF6B-440...|2010-11-28 00:00:00|\n",
      "|              12|        EM|    false| null|  Thierry|         B|    D'Hers|  null|             2|                 null|<IndividualSurvey...|FA263C7F-600D-4E8...|2007-12-04 00:00:00|\n",
      "|              13|        EM|    false|  Ms.|   Janice|         M|    Galvin|  null|             2|                 null|<IndividualSurvey...|34EB99E0-7042-4DC...|2010-12-16 00:00:00|\n",
      "|              14|        EM|    false| null|  Michael|         I|  Sullivan|  null|             2|                 null|<IndividualSurvey...|9A7501DE-5CAF-470...|2010-12-23 00:00:00|\n",
      "|              15|        EM|    false| null|   Sharon|         B| Salavaria|  null|             2|                 null|<IndividualSurvey...|BEBA63CB-13F1-4B7...|2011-01-11 00:00:00|\n",
      "|              16|        EM|    false| null|    David|         M|   Bradley|  null|             1|                 null|<IndividualSurvey...|2CC8BA72-5DBB-497...|2007-12-13 00:00:00|\n",
      "|              17|        EM|    false| null|    Kevin|         F|     Brown|  null|             2|                 null|<IndividualSurvey...|9EE4713E-B3D8-440...|2007-01-19 00:00:00|\n",
      "|              18|        EM|    false| null|     John|         L|      Wood|  null|             2|                 null|<IndividualSurvey...|FE21BDA7-9327-4D1...|2011-01-31 00:00:00|\n",
      "|              19|        EM|    false| null|     Mary|         A|   Dempsey|  null|             1|                 null|<IndividualSurvey...|36F04305-6769-4E6...|2011-02-07 00:00:00|\n",
      "|              20|        EM|    false| null|   Wanida|         M|  Benshoof|  null|             2|                 null|<IndividualSurvey...|1E7E56F4-A583-4E3...|2010-12-31 00:00:00|\n",
      "+----------------+----------+---------+-----+---------+----------+----------+------+--------------+---------------------+--------------------+--------------------+-------------------+\n",
      "only showing top 20 rows\n",
      "\n",
      "None\n",
      "+----------------+------------+-----------------+-------------------+\n",
      "|BusinessEntityID| PhoneNumber|PhoneNumberTypeID|       ModifiedDate|\n",
      "+----------------+------------+-----------------+-------------------+\n",
      "|               1|697-555-0142|                1|2009-01-07 00:00:00|\n",
      "|               2|819-555-0175|                3|2008-01-24 00:00:00|\n",
      "|               3|212-555-0187|                1|2007-11-04 00:00:00|\n",
      "|               4|612-555-0100|                1|2007-11-28 00:00:00|\n",
      "|               5|849-555-0139|                1|2007-12-30 00:00:00|\n",
      "|               6|122-555-0189|                3|2013-12-16 00:00:00|\n",
      "|               7|181-555-0156|                3|2009-02-01 00:00:00|\n",
      "|               8|815-555-0138|                1|2008-12-22 00:00:00|\n",
      "|               9|185-555-0186|                1|2009-01-09 00:00:00|\n",
      "|              10|330-555-2568|                3|2009-04-26 00:00:00|\n",
      "|              11|719-555-0181|                1|2010-11-28 00:00:00|\n",
      "|              12|168-555-0183|                3|2007-12-04 00:00:00|\n",
      "|              13|473-555-0117|                3|2010-12-16 00:00:00|\n",
      "|              14|465-555-0156|                1|2010-12-23 00:00:00|\n",
      "|              15|970-555-0138|                1|2011-01-11 00:00:00|\n",
      "|              16|913-555-0172|                3|2007-12-13 00:00:00|\n",
      "|              17|150-555-0189|                1|2007-01-19 00:00:00|\n",
      "|              18|486-555-0150|                3|2011-01-31 00:00:00|\n",
      "|              19|124-555-0114|                1|2011-02-07 00:00:00|\n",
      "|              20|708-555-0141|                3|2010-12-31 00:00:00|\n",
      "+----------------+------------+-----------------+-------------------+\n",
      "only showing top 20 rows\n",
      "\n",
      "None\n",
      "+----------------+--------------+--------------------+--------------------+-------------------+\n",
      "|BusinessEntityID|EmailAddressID|        EmailAddress|             rowguid|       ModifiedDate|\n",
      "+----------------+--------------+--------------------+--------------------+-------------------+\n",
      "|               1|             1|ken0@adventure-wo...|8A1901E4-671B-431...|2009-01-07 00:00:00|\n",
      "|               2|             2|terri0@adventure-...|B5FF9EFD-72A2-4F8...|2008-01-24 00:00:00|\n",
      "|               3|             3|roberto0@adventur...|C8A51084-1C03-4C5...|2007-11-04 00:00:00|\n",
      "|               4|             4|rob0@adventure-wo...|17703ED1-0031-4B4...|2007-11-28 00:00:00|\n",
      "|               5|             5|gail0@adventure-w...|E76D2EA3-08E5-409...|2007-12-30 00:00:00|\n",
      "|               6|             6|jossef0@adventure...|A9C4093A-4F4A-4CA...|2013-12-16 00:00:00|\n",
      "|               7|             7|dylan0@adventure-...|70429DE4-C3BF-4F1...|2009-02-01 00:00:00|\n",
      "|               8|             8|diane1@adventure-...|37F02A87-058D-49F...|2008-12-22 00:00:00|\n",
      "|               9|             9|gigi0@adventure-w...|F888A16D-0C33-459...|2009-01-09 00:00:00|\n",
      "|              10|            10|michael6@adventur...|E0DD366D-433D-4F5...|2009-04-26 00:00:00|\n",
      "|              11|            11|ovidiu0@adventure...|0FF9523D-F398-423...|2010-11-28 00:00:00|\n",
      "|              12|            12|thierry0@adventur...|B2962849-CC5F-4E5...|2007-12-04 00:00:00|\n",
      "|              13|            13|janice0@adventure...|64871268-3812-402...|2010-12-16 00:00:00|\n",
      "|              14|            14|michael8@adventur...|BEA9075C-1BED-4E5...|2010-12-23 00:00:00|\n",
      "|              15|            15|sharon0@adventure...|5CD782BA-F5AB-41E...|2011-01-11 00:00:00|\n",
      "|              16|            16|david0@adventure-...|80C0D44A-78B6-42A...|2007-12-13 00:00:00|\n",
      "|              17|            17|kevin0@adventure-...|F4332215-C861-4A5...|2007-01-19 00:00:00|\n",
      "|              18|            18|john5@adventure-w...|A944FC67-F16E-4AB...|2011-01-31 00:00:00|\n",
      "|              19|            19|mary2@adventure-w...|626CB0E6-D6A9-4A7...|2011-02-07 00:00:00|\n",
      "|              20|            20|wanida0@adventure...|924A0FC3-F9E4-410...|2010-12-31 00:00:00|\n",
      "+----------------+--------------+--------------------+--------------------+-------------------+\n",
      "only showing top 20 rows\n",
      "\n",
      "None\n"
     ]
    }
   ],
   "source": [
    "print( df_p.show() )\n",
    "print( df_pPhone.show() )\n",
    "print( df_pEmail.show() )"
   ]
  },
  {
   "cell_type": "markdown",
   "id": "474deea9-cedc-410b-a452-09c26dd29720",
   "metadata": {},
   "source": [
    "## Pre Processing ( Transform )\n",
    "\n",
    "It is important to check the data before we give accessabilities. Sometimes data can be corrupted, repeated, not needed, contains less information, etc. Thus, we need to ensure the data goes through several filters to make sure data is safe and been pre processed.\n",
    "\n",
    " * Check for nulls\n",
    " * Check for repetitions\n",
    " * Check for consistency"
   ]
  },
  {
   "cell_type": "code",
   "execution_count": 16,
   "id": "83ba2e45-aaec-4167-ad0b-c0e65ff794a2",
   "metadata": {},
   "outputs": [
    {
     "name": "stdout",
     "output_type": "stream",
     "text": [
      "+----------------+----------+---------+-----+---------+----------+-----------+------+--------------+---------------------+--------------------+--------------------+--------------------+\n",
      "|BusinessEntityID|PersonType|NameStyle|Title|FirstName|MiddleName|   LastName|Suffix|EmailPromotion|AdditionalContactInfo|        Demographics|             rowguid|        ModifiedDate|\n",
      "+----------------+----------+---------+-----+---------+----------+-----------+------+--------------+---------------------+--------------------+--------------------+--------------------+\n",
      "|               5|        EM|    false|  Ms.|     Gail|         A|   Erickson|  null|             0|                 null|<IndividualSurvey...|F3A3F6B4-AE3B-430...| 2007-12-30 00:00:00|\n",
      "|               6|        EM|    false|  Mr.|   Jossef|         H|   Goldberg|  null|             0|                 null|<IndividualSurvey...|0DEA28FD-EFFE-482...| 2013-12-16 00:00:00|\n",
      "|              13|        EM|    false|  Ms.|   Janice|         M|     Galvin|  null|             2|                 null|<IndividualSurvey...|34EB99E0-7042-4DC...| 2010-12-16 00:00:00|\n",
      "|              24|        EM|    false|  Ms.|     Jill|         A|   Williams|  null|             0|                 null|<IndividualSurvey...|3F605060-96AD-420...| 2009-01-11 00:00:00|\n",
      "|             139|        EM|    false|  Mr.|  Hung-Fu|         T|       Ting|  null|             0|                 null|<IndividualSurvey...|739C7553-13E5-4F3...| 2009-12-30 00:00:00|\n",
      "|             273|        EM|    false|  Mr.|    Brian|         S|    Welcker|  null|             0|                 null|<IndividualSurvey...|0950A366-1EEE-451...| 2011-02-08 00:00:00|\n",
      "|             284|        SP|    false|  Mr.|     Tete|         A|Mensa-Annan|  null|             1|                 null|<IndividualSurvey...|F5BED54C-DF64-402...| 2012-09-23 00:00:00|\n",
      "|             285|        SP|    false|  Mr.|     Syed|         E|      Abbas|  null|             0|                 null|<IndividualSurvey...|FF284881-01C2-4C7...| 2013-03-07 00:00:00|\n",
      "|             291|        SC|    false|  Mr.|  Gustavo|      null|     Achong|  null|             2| <AdditionalContac...|<IndividualSurvey...|D4C132D3-FCB5-423...|2015-04-15 16:33:...|\n",
      "|             293|        SC|    false|  Ms.|Catherine|        R.|       Abel|  null|             1| <AdditionalContac...|<IndividualSurvey...|D54E0552-C226-4C2...|2015-04-15 16:33:...|\n",
      "|             295|        SC|    false|  Ms.|      Kim|      null|Abercrombie|  null|             0| <AdditionalContac...|<IndividualSurvey...|F7CBDB48-0B44-470...|2015-04-15 16:33:...|\n",
      "|             297|        SC|    false|  Sr.| Humberto|      null|    Acevedo|  null|             2| <AdditionalContac...|<IndividualSurvey...|5A41D336-84CF-44D...|2015-04-15 16:33:...|\n",
      "|             299|        SC|    false| Sra.|    Pilar|      null|   Ackerman|  null|             0| <AdditionalContac...|<IndividualSurvey...|DF1FB8AB-2323-433...|2015-04-15 16:33:...|\n",
      "|             301|        SC|    false|  Ms.|  Frances|        B.|      Adams|  null|             1| <AdditionalContac...|<IndividualSurvey...|66980082-C186-40A...|2015-04-15 16:33:...|\n",
      "|             303|        SC|    false|  Ms.| Margaret|        J.|      Smith|  null|             0| <AdditionalContac...|<IndividualSurvey...|691818E1-FC19-445...|2015-04-15 16:33:...|\n",
      "|             305|        SC|    false|  Ms.|    Carla|        J.|      Adams|  null|             0| <AdditionalContac...|<IndividualSurvey...|5F183B92-1648-494...|2015-04-15 16:33:...|\n",
      "|             307|        SC|    false|  Mr.|      Jay|      null|      Adams|  null|             1| <AdditionalContac...|<IndividualSurvey...|38256645-4B88-416...|2015-04-15 16:33:...|\n",
      "|             309|        SC|    false|  Mr.|   Ronald|        L.|      Adina|  null|             0| <AdditionalContac...|<IndividualSurvey...|DBB05A55-2256-42B...|2015-04-15 16:33:...|\n",
      "|             311|        SC|    false|  Mr.|   Samuel|        N.|   Agcaoili|  null|             0|                 null|<IndividualSurvey...|43C55826-2843-49A...| 2011-08-01 00:00:00|\n",
      "|             313|        SC|    false|  Mr.|    James|        T.|    Aguilar|   Jr.|             1|                 null|<IndividualSurvey...|35AD71E7-8B4E-4C6...| 2013-06-30 00:00:00|\n",
      "+----------------+----------+---------+-----+---------+----------+-----------+------+--------------+---------------------+--------------------+--------------------+--------------------+\n",
      "only showing top 20 rows\n",
      "\n"
     ]
    }
   ],
   "source": [
    "# Show __Person__ table with column title without NULLS\n",
    "df_p.filter( df_p.Title.isNotNull()).show()"
   ]
  },
  {
   "cell_type": "code",
   "execution_count": 17,
   "id": "b15600d7-d2fa-4d7f-8e5d-74680d45cd05",
   "metadata": {},
   "outputs": [
    {
     "name": "stdout",
     "output_type": "stream",
     "text": [
      "+----------------+----------+---------+-----+---------+----------+-----------------+------+--------------+---------------------+--------------------+--------------------+-------------------+\n",
      "|BusinessEntityID|PersonType|NameStyle|Title|FirstName|MiddleName|         LastName|Suffix|EmailPromotion|AdditionalContactInfo|        Demographics|             rowguid|       ModifiedDate|\n",
      "+----------------+----------+---------+-----+---------+----------+-----------------+------+--------------+---------------------+--------------------+--------------------+-------------------+\n",
      "|               1|        EM|    false| null|      Ken|         J|          Sánchez|  null|             0|                 null|<IndividualSurvey...|92C4279F-1207-48A...|2009-01-07 00:00:00|\n",
      "|               2|        EM|    false| null|    Terri|       Lee|            Duffy|  null|             1|                 null|<IndividualSurvey...|D8763459-8AA8-47C...|2008-01-24 00:00:00|\n",
      "|               3|        EM|    false| null|  Roberto|      null|       Tamburello|  null|             0|                 null|<IndividualSurvey...|E1A2555E-0828-434...|2007-11-04 00:00:00|\n",
      "|               4|        EM|    false| null|      Rob|      null|          Walters|  null|             0|                 null|<IndividualSurvey...|F2D7CE06-38B3-435...|2007-11-28 00:00:00|\n",
      "|               7|        EM|    false| null|    Dylan|         A|           Miller|  null|             2|                 null|<IndividualSurvey...|C45E8AB8-01BE-4B7...|2009-02-01 00:00:00|\n",
      "|               8|        EM|    false| null|    Diane|         L|         Margheim|  null|             0|                 null|<IndividualSurvey...|A948E590-4A56-45A...|2008-12-22 00:00:00|\n",
      "|               9|        EM|    false| null|     Gigi|         N|          Matthew|  null|             0|                 null|<IndividualSurvey...|5FC28C0E-6D36-425...|2009-01-09 00:00:00|\n",
      "|              10|        EM|    false| null|  Michael|      null|           Raheem|  null|             2|                 null|<IndividualSurvey...|CA2C740E-75B2-420...|2009-04-26 00:00:00|\n",
      "|              11|        EM|    false| null|   Ovidiu|         V|          Cracium|  null|             0|                 null|<IndividualSurvey...|D2CC2577-EF6B-440...|2010-11-28 00:00:00|\n",
      "|              12|        EM|    false| null|  Thierry|         B|           D'Hers|  null|             2|                 null|<IndividualSurvey...|FA263C7F-600D-4E8...|2007-12-04 00:00:00|\n",
      "|              14|        EM|    false| null|  Michael|         I|         Sullivan|  null|             2|                 null|<IndividualSurvey...|9A7501DE-5CAF-470...|2010-12-23 00:00:00|\n",
      "|              15|        EM|    false| null|   Sharon|         B|        Salavaria|  null|             2|                 null|<IndividualSurvey...|BEBA63CB-13F1-4B7...|2011-01-11 00:00:00|\n",
      "|              16|        EM|    false| null|    David|         M|          Bradley|  null|             1|                 null|<IndividualSurvey...|2CC8BA72-5DBB-497...|2007-12-13 00:00:00|\n",
      "|              17|        EM|    false| null|    Kevin|         F|            Brown|  null|             2|                 null|<IndividualSurvey...|9EE4713E-B3D8-440...|2007-01-19 00:00:00|\n",
      "|              18|        EM|    false| null|     John|         L|             Wood|  null|             2|                 null|<IndividualSurvey...|FE21BDA7-9327-4D1...|2011-01-31 00:00:00|\n",
      "|              19|        EM|    false| null|     Mary|         A|          Dempsey|  null|             1|                 null|<IndividualSurvey...|36F04305-6769-4E6...|2011-02-07 00:00:00|\n",
      "|              20|        EM|    false| null|   Wanida|         M|         Benshoof|  null|             2|                 null|<IndividualSurvey...|1E7E56F4-A583-4E3...|2010-12-31 00:00:00|\n",
      "|              21|        EM|    false| null|    Terry|         J|        Eminhizer|  null|             2|                 null|<IndividualSurvey...|6A288FE0-D9CB-4DA...|2009-02-23 00:00:00|\n",
      "|              22|        EM|    false| null|   Sariya|         E|Harnpadoungsataya|  null|             0|                 null|<IndividualSurvey...|276E0EB5-0CE7-443...|2008-12-05 00:00:00|\n",
      "|              23|        EM|    false| null|     Mary|         E|           Gibson|  null|             0|                 null|<IndividualSurvey...|B10CF8EB-5589-4A8...|2009-01-05 00:00:00|\n",
      "+----------------+----------+---------+-----+---------+----------+-----------------+------+--------------+---------------------+--------------------+--------------------+-------------------+\n",
      "only showing top 20 rows\n",
      "\n"
     ]
    }
   ],
   "source": [
    "# Show __Person__ table with column title with NULLS\n",
    "\n",
    "df_p.filter( df_p.Title.isNull() ).show()"
   ]
  },
  {
   "cell_type": "code",
   "execution_count": 18,
   "id": "733fe583-c770-455b-ad50-4bd2c43566c6",
   "metadata": {},
   "outputs": [
    {
     "name": "stdout",
     "output_type": "stream",
     "text": [
      "+----------------+-------------------+-----------------+--------------------+\n",
      "|BusinessEntityID|        PhoneNumber|PhoneNumberTypeID|        ModifiedDate|\n",
      "+----------------+-------------------+-----------------+--------------------+\n",
      "|             286|1 (11) 500 555-0190|                1| 2013-05-23 00:00:00|\n",
      "|             288|1 (11) 500 555-0140|                1| 2013-05-23 00:00:00|\n",
      "|             289|1 (11) 500 555-0145|                3| 2012-05-23 00:00:00|\n",
      "|             290|1 (11) 500 555-0117|                1| 2012-05-23 00:00:00|\n",
      "|             299|1 (11) 500 555-0132|                1|2015-04-15 16:33:...|\n",
      "|             313|1 (11) 500 555-0198|                1| 2013-06-30 00:00:00|\n",
      "|             321|1 (11) 500 555-0150|                1| 2012-07-31 00:00:00|\n",
      "|             349|1 (11) 500 555-0190|                1| 2013-07-31 00:00:00|\n",
      "|             357|1 (11) 500 555-0181|                1| 2013-06-30 00:00:00|\n",
      "|             377|1 (11) 500 555-0139|                3| 2013-06-30 00:00:00|\n",
      "|             383|1 (11) 500 555-0187|                3| 2013-07-31 00:00:00|\n",
      "|             407|1 (11) 500 555-0151|                3| 2013-07-31 00:00:00|\n",
      "|             409|1 (11) 500 555-0168|                3| 2013-06-30 00:00:00|\n",
      "|             415|1 (11) 500 555-0187|                1| 2012-05-30 00:00:00|\n",
      "|             419|1 (11) 500 555-0112|                3| 2013-06-30 00:00:00|\n",
      "|             425|1 (11) 500 555-0113|                3| 2013-06-30 00:00:00|\n",
      "|             431|1 (11) 500 555-0132|                1| 2012-07-31 00:00:00|\n",
      "|             433|1 (11) 500 555-0127|                3| 2012-06-30 00:00:00|\n",
      "|             435|1 (11) 500 555-0140|                1| 2013-06-30 00:00:00|\n",
      "|             445|1 (11) 500 555-0163|                3| 2013-07-31 00:00:00|\n",
      "+----------------+-------------------+-----------------+--------------------+\n",
      "only showing top 20 rows\n",
      "\n"
     ]
    }
   ],
   "source": [
    "# Show __Phone__ table with more than 10 digit numbers\n",
    "df_pPhone.filter( length(col( \"PhoneNumber\" )) > 12).show()"
   ]
  },
  {
   "cell_type": "code",
   "execution_count": 19,
   "id": "19e4654b-79d4-444a-a1b2-e86e95115e0b",
   "metadata": {},
   "outputs": [
    {
     "name": "stdout",
     "output_type": "stream",
     "text": [
      "+----------------------+\n",
      "|max(PhoneNumberTypeID)|\n",
      "+----------------------+\n",
      "|                     3|\n",
      "+----------------------+\n",
      "\n"
     ]
    }
   ],
   "source": [
    "# Get Max value of a column\n",
    "df_pPhone.agg({'PhoneNumberTypeID': 'max'}).show()"
   ]
  },
  {
   "cell_type": "code",
   "execution_count": 20,
   "id": "122967aa-c735-498c-8202-d99e3e06b2ca",
   "metadata": {},
   "outputs": [
    {
     "name": "stdout",
     "output_type": "stream",
     "text": [
      "+----------------------+\n",
      "|min(PhoneNumberTypeID)|\n",
      "+----------------------+\n",
      "|                     1|\n",
      "+----------------------+\n",
      "\n"
     ]
    }
   ],
   "source": [
    "# Get Min value of a column\n",
    "df_pPhone.agg({'PhoneNumberTypeID': 'min'}).show()"
   ]
  },
  {
   "cell_type": "code",
   "execution_count": 21,
   "id": "9d218dcc-75ac-422f-8595-092f5f6376a7",
   "metadata": {},
   "outputs": [
    {
     "name": "stdout",
     "output_type": "stream",
     "text": [
      "+----------------+-----------+-----------------+------------+\n",
      "|BusinessEntityID|PhoneNumber|PhoneNumberTypeID|ModifiedDate|\n",
      "+----------------+-----------+-----------------+------------+\n",
      "+----------------+-----------+-----------------+------------+\n",
      "\n"
     ]
    }
   ],
   "source": [
    "# To show, the minimum value is correctly displaying -- that there are no values less than zero.\n",
    "df_pPhone.filter( col( \"PhoneNumberTypeID\" ) < 0).show()"
   ]
  },
  {
   "cell_type": "markdown",
   "id": "3861c390-78bb-4604-8ff7-7dd69e7214b5",
   "metadata": {},
   "source": [
    "## Joins\n",
    "\n",
    "Here, I have used the Inner join to join two tables, Person.Phone and Person.Email.\n",
    "\n",
    "##### Potential Problem:\n",
    " * Duplicated Columns  - in this example, Modified Date has been duplicated\n",
    " * NULL values - since this is inner joins, if two tables are already NULL checked, then there should not be any NULLs."
   ]
  },
  {
   "cell_type": "markdown",
   "id": "c69a3a19-15bb-40d9-aa23-774dfb225532",
   "metadata": {},
   "source": [
    "## Solution:\n",
    "(1) Check if the two tables have equal columns before joins\n",
    "(2) Drop one of the columns"
   ]
  },
  {
   "cell_type": "code",
   "execution_count": 22,
   "id": "ddf8ac19-6bd6-4f6e-b003-7d88a2319fe6",
   "metadata": {},
   "outputs": [
    {
     "data": {
      "text/plain": [
       "{'BusinessEntityID', 'ModifiedDate'}"
      ]
     },
     "execution_count": 22,
     "metadata": {},
     "output_type": "execute_result"
    }
   ],
   "source": [
    "sameCols = set( df_pPhone.columns ).intersection( set( df_pEmail.columns ))\n",
    "sameCols"
   ]
  },
  {
   "cell_type": "code",
   "execution_count": 23,
   "id": "c008868b-6237-4189-a8a5-a01aadbe3276",
   "metadata": {},
   "outputs": [
    {
     "name": "stdout",
     "output_type": "stream",
     "text": [
      "+----------------+-------------------+-----------------+-------------------+--------------+------------------------------+------------------------------------+\n",
      "|BusinessEntityID|PhoneNumber        |PhoneNumberTypeID|ModifiedDate       |EmailAddressID|EmailAddress                  |rowguid                             |\n",
      "+----------------+-------------------+-----------------+-------------------+--------------+------------------------------+------------------------------------+\n",
      "|196             |793-555-0179       |1                |2008-12-17 00:00:00|196           |shammi0@adventure-works.com   |F62FC889-EADF-48C4-B4C2-3DEFF636A677|\n",
      "|274             |238-555-0197       |1                |2010-12-28 00:00:00|274           |stephen0@adventure-works.com  |FAFCED5B-FF48-4397-855A-ADEE1A5136DE|\n",
      "|1746            |484-555-0100       |1                |2013-03-27 00:00:00|1042          |alan3@adventure-works.com     |E06ACF96-2D52-4476-93BE-3450605D1CD7|\n",
      "|1999            |874-555-0100       |1                |2013-07-31 00:00:00|1195          |filomena0@adventure-works.com |6E8BEC0E-AE8E-4226-8F72-F5757A599998|\n",
      "|2006            |195-555-0100       |3                |2012-06-30 00:00:00|1202          |julie2@adventure-works.com    |4279E297-7F97-4EFB-8875-44D7A3284EC3|\n",
      "|2083            |398-555-0100       |3                |2011-12-23 00:00:00|1278          |arvid0@adventure-works.com    |494B565A-0461-4AEA-8503-995378E36C7B|\n",
      "|2312            |915-555-0100       |1                |2009-01-14 00:00:00|1507          |dan5@adventure-works.com      |DF5A878E-0ACE-403D-A485-D68773CD4D27|\n",
      "|2392            |1 (11) 500 555-0187|1                |2013-04-01 00:00:00|1587          |francis1@adventure-works.com  |BE07810A-E732-427F-8495-CE109F490636|\n",
      "|2759            |125-555-0117       |1                |2011-08-15 00:00:00|1954          |alexandra1@adventure-works.com|AD51A853-67F6-40C0-BF0E-F76CADD6C552|\n",
      "|3070            |270-555-0169       |1                |2013-07-17 00:00:00|2265          |stephanie8@adventure-works.com|8490BDEE-1239-4740-A17B-E8B7BC03BAF5|\n",
      "|3075            |1 (11) 500 555-0147|1                |2013-08-25 00:00:00|2270          |evelyn0@adventure-works.com   |D105E0BC-1732-4AC0-8910-724D6B54F0F8|\n",
      "|3303            |1 (11) 500 555-0195|2                |2014-04-03 00:00:00|2498          |ruth24@adventure-works.com    |1B017B87-1180-4ADB-BBCF-171704C3C950|\n",
      "|3508            |735-555-0180       |2                |2013-12-14 00:00:00|2703          |karla13@adventure-works.com   |29003897-BC5D-47B2-9FA7-3F1C2DFE9E57|\n",
      "|3837            |1 (11) 500 555-0148|1                |2014-03-22 00:00:00|3032          |cesar16@adventure-works.com   |9BD5B257-E552-421B-99C0-E868F53295BF|\n",
      "|4258            |147-555-0173       |1                |2013-08-06 00:00:00|3453          |edward41@adventure-works.com  |7C2848D5-EC3A-4229-82FF-216DD53A21AC|\n",
      "|4417            |1 (11) 500 555-0175|2                |2011-10-17 00:00:00|3612          |nina1@adventure-works.com     |BDFD2025-BB1E-45C1-8AB2-A25A7B1EAB35|\n",
      "|4525            |251-555-0135       |2                |2013-08-17 00:00:00|3720          |dalton43@adventure-works.com  |0531544D-08A6-4F0A-BDE3-B104810285AD|\n",
      "|4588            |882-555-0162       |2                |2013-12-14 00:00:00|3783          |richard34@adventure-works.com |92B531AC-39BA-4242-8247-11778B574CF6|\n",
      "|4849            |1 (11) 500 555-0140|1                |2013-07-19 00:00:00|4044          |alvin24@adventure-works.com   |3AE25BF7-EF29-46A2-B786-71022B61D744|\n",
      "|4892            |1 (11) 500 555-0186|2                |2012-11-27 00:00:00|4087          |charles36@adventure-works.com |8F8B4754-004D-400E-BCD4-D9F3062852C6|\n",
      "+----------------+-------------------+-----------------+-------------------+--------------+------------------------------+------------------------------------+\n",
      "only showing top 20 rows\n",
      "\n"
     ]
    }
   ],
   "source": [
    "# Inner Join\n",
    "df_pPhoneEmail = df_pPhone.join( df_pEmail, ( df_pPhone.BusinessEntityID == df_pEmail.BusinessEntityID ) & ( df_pPhone.ModifiedDate == df_pEmail.ModifiedDate ), \"inner\" ) \\\n",
    ".drop( df_pEmail.BusinessEntityID ) \\\n",
    ".drop( df_pEmail.ModifiedDate )\n",
    "\n",
    "df_pPhoneEmail.show( truncate = False )"
   ]
  },
  {
   "cell_type": "markdown",
   "id": "ba1468c2-f145-448c-8382-4a11cf818299",
   "metadata": {},
   "source": [
    "#### Convert to Parquet\n",
    " * Convert the given Spark dataframe into parquet"
   ]
  },
  {
   "cell_type": "code",
   "execution_count": 24,
   "id": "d49a76bf-f3d0-4582-9914-e2ff9016ccaa",
   "metadata": {},
   "outputs": [],
   "source": [
    "df_pPhoneEmail.write.parquet( \"peoplePhoneEmail.parquet\" )\n",
    "parquetDF = spark.read.parquet( \"peoplePhoneEmail.parquet\" )"
   ]
  },
  {
   "cell_type": "code",
   "execution_count": 26,
   "id": "e681ba78-ddc3-45cb-935f-433bf2b4fc75",
   "metadata": {},
   "outputs": [
    {
     "name": "stdout",
     "output_type": "stream",
     "text": [
      "+----------------+-------------------+-----------------+-------------------+--------------+--------------------+--------------------+\n",
      "|BusinessEntityID|        PhoneNumber|PhoneNumberTypeID|       ModifiedDate|EmailAddressID|        EmailAddress|             rowguid|\n",
      "+----------------+-------------------+-----------------+-------------------+--------------+--------------------+--------------------+\n",
      "|             196|       793-555-0179|                1|2008-12-17 00:00:00|           196|shammi0@adventure...|F62FC889-EADF-48C...|\n",
      "|             274|       238-555-0197|                1|2010-12-28 00:00:00|           274|stephen0@adventur...|FAFCED5B-FF48-439...|\n",
      "|            1746|       484-555-0100|                1|2013-03-27 00:00:00|          1042|alan3@adventure-w...|E06ACF96-2D52-447...|\n",
      "|            1999|       874-555-0100|                1|2013-07-31 00:00:00|          1195|filomena0@adventu...|6E8BEC0E-AE8E-422...|\n",
      "|            2006|       195-555-0100|                3|2012-06-30 00:00:00|          1202|julie2@adventure-...|4279E297-7F97-4EF...|\n",
      "|            2083|       398-555-0100|                3|2011-12-23 00:00:00|          1278|arvid0@adventure-...|494B565A-0461-4AE...|\n",
      "|            2312|       915-555-0100|                1|2009-01-14 00:00:00|          1507|dan5@adventure-wo...|DF5A878E-0ACE-403...|\n",
      "|            2392|1 (11) 500 555-0187|                1|2013-04-01 00:00:00|          1587|francis1@adventur...|BE07810A-E732-427...|\n",
      "|            2759|       125-555-0117|                1|2011-08-15 00:00:00|          1954|alexandra1@advent...|AD51A853-67F6-40C...|\n",
      "|            3070|       270-555-0169|                1|2013-07-17 00:00:00|          2265|stephanie8@advent...|8490BDEE-1239-474...|\n",
      "|            3075|1 (11) 500 555-0147|                1|2013-08-25 00:00:00|          2270|evelyn0@adventure...|D105E0BC-1732-4AC...|\n",
      "|            3303|1 (11) 500 555-0195|                2|2014-04-03 00:00:00|          2498|ruth24@adventure-...|1B017B87-1180-4AD...|\n",
      "|            3508|       735-555-0180|                2|2013-12-14 00:00:00|          2703|karla13@adventure...|29003897-BC5D-47B...|\n",
      "|            3837|1 (11) 500 555-0148|                1|2014-03-22 00:00:00|          3032|cesar16@adventure...|9BD5B257-E552-421...|\n",
      "|            4258|       147-555-0173|                1|2013-08-06 00:00:00|          3453|edward41@adventur...|7C2848D5-EC3A-422...|\n",
      "|            4417|1 (11) 500 555-0175|                2|2011-10-17 00:00:00|          3612|nina1@adventure-w...|BDFD2025-BB1E-45C...|\n",
      "|            4525|       251-555-0135|                2|2013-08-17 00:00:00|          3720|dalton43@adventur...|0531544D-08A6-4F0...|\n",
      "|            4588|       882-555-0162|                2|2013-12-14 00:00:00|          3783|richard34@adventu...|92B531AC-39BA-424...|\n",
      "|            4849|1 (11) 500 555-0140|                1|2013-07-19 00:00:00|          4044|alvin24@adventure...|3AE25BF7-EF29-46A...|\n",
      "|            4892|1 (11) 500 555-0186|                2|2012-11-27 00:00:00|          4087|charles36@adventu...|8F8B4754-004D-400...|\n",
      "+----------------+-------------------+-----------------+-------------------+--------------+--------------------+--------------------+\n",
      "only showing top 20 rows\n",
      "\n"
     ]
    }
   ],
   "source": [
    "parquetDF.show()"
   ]
  },
  {
   "cell_type": "code",
   "execution_count": 27,
   "id": "c4d852e0-2f1a-4d02-b0d8-ea001f8e7c8f",
   "metadata": {},
   "outputs": [
    {
     "name": "stdout",
     "output_type": "stream",
     "text": [
      "There are NO Duplicates\n"
     ]
    }
   ],
   "source": [
    "# Duplicity:\n",
    "# df_basket1.columns\n",
    "# if df_p.count() > df_p.dropDuplicates([listOfColumns]).count():\n",
    "if df_p.count() > df_p.dropDuplicates( df_p.columns ).count():\n",
    "    print( 'There are Duplicates' )\n",
    "    raise ValueError('Data has duplicates')\n",
    "else:\n",
    "    print( 'There are NO Duplicates' )"
   ]
  },
  {
   "cell_type": "code",
   "execution_count": 28,
   "id": "f4c71d0d-accc-424d-a03b-35715e7d284f",
   "metadata": {},
   "outputs": [],
   "source": [
    "\"\"\"\n",
    "Function checkDuplicates()\n",
    "\n",
    "Description: Check if given dataframe has any duplicated ROW values in - the entire row is repeated.\n",
    "\n",
    "Parametres: dataframe (Spark)\n",
    "Return: boolean\n",
    "\"\"\"\n",
    "\n",
    "def checkDuplicates( df ):\n",
    "    if df.count() > df.dropDuplicates( df.columns ).count():\n",
    "        print( 'There are Duplicates' )\n",
    "        raise ValueError('Data has duplicates')\n",
    "        return True\n",
    "    else:\n",
    "        print( 'There are NO Duplicates' )\n",
    "        return False\n"
   ]
  },
  {
   "cell_type": "code",
   "execution_count": 29,
   "id": "b6aae22a-45e9-4060-880c-bf1102f55aaa",
   "metadata": {},
   "outputs": [],
   "source": [
    "\"\"\"\n",
    "Function checkDuplicatesByCols()\n",
    "\n",
    "Description: Check if given dataframe has any duplicated ROW values in given COLUMNS\n",
    "\n",
    "Parametres: dataframe (Spark), array\n",
    "Return: boolean\n",
    "\"\"\"\n",
    "\n",
    "def checkDuplicatesByCol( df, listOfCols ):\n",
    "    if df.count() > df.dropDuplicates( listOfCols[:] ).count():\n",
    "        print( 'There are Duplicates' )\n",
    "        \n",
    "        print(\n",
    "            df.groupby( listOfCols[:]) \\\n",
    "            .count() \\\n",
    "            .where( 'count > 1' ) \\\n",
    "            .sort( 'count', ascending = False ) \\\n",
    "            .show()\n",
    "        )\n",
    "        \n",
    "        raise ValueError('Data has duplicates')\n",
    "        return True\n",
    "    else:\n",
    "        print( 'There are NO Duplicates' )\n",
    "        return False"
   ]
  },
  {
   "cell_type": "code",
   "execution_count": 30,
   "id": "746d9c0f-b8f6-473b-ad49-3b3bbdbb6744",
   "metadata": {},
   "outputs": [
    {
     "name": "stdout",
     "output_type": "stream",
     "text": [
      "There are NO Duplicates\n",
      "Person Table Passed\n",
      "There are Duplicates\n",
      "+---------+-----+\n",
      "|FirstName|count|\n",
      "+---------+-----+\n",
      "|  Richard|  103|\n",
      "|Katherine|   99|\n",
      "|    James|   97|\n",
      "|   Marcus|   97|\n",
      "| Jennifer|   96|\n",
      "|    Lucas|   93|\n",
      "|   Dalton|   93|\n",
      "|Alexandra|   93|\n",
      "| Isabella|   92|\n",
      "|     Seth|   92|\n",
      "|   Morgan|   92|\n",
      "|  Natalie|   91|\n",
      "|  Kaitlyn|   90|\n",
      "|  Eduardo|   90|\n",
      "|   Sydney|   90|\n",
      "|   Robert|   90|\n",
      "|      Ian|   89|\n",
      "|    Julia|   89|\n",
      "|   Xavier|   88|\n",
      "|    Chloe|   88|\n",
      "+---------+-----+\n",
      "only showing top 20 rows\n",
      "\n",
      "None\n"
     ]
    },
    {
     "ename": "ValueError",
     "evalue": "Data has duplicates",
     "output_type": "error",
     "traceback": [
      "\u001b[1;31m---------------------------------------------------------------------------\u001b[0m",
      "\u001b[1;31mValueError\u001b[0m                                Traceback (most recent call last)",
      "\u001b[1;32m~\\AppData\\Local\\Temp/ipykernel_15528/3606706045.py\u001b[0m in \u001b[0;36m<module>\u001b[1;34m\u001b[0m\n\u001b[0;32m      7\u001b[0m     \u001b[1;34m'FirstName'\u001b[0m\u001b[1;33m\u001b[0m\u001b[1;33m\u001b[0m\u001b[0m\n\u001b[0;32m      8\u001b[0m ]\n\u001b[1;32m----> 9\u001b[1;33m \u001b[1;32mif\u001b[0m \u001b[0mcheckDuplicatesByCol\u001b[0m\u001b[1;33m(\u001b[0m \u001b[0mdf_p\u001b[0m\u001b[1;33m,\u001b[0m \u001b[0mcols\u001b[0m \u001b[1;33m)\u001b[0m\u001b[1;33m:\u001b[0m\u001b[1;33m\u001b[0m\u001b[1;33m\u001b[0m\u001b[0m\n\u001b[0m\u001b[0;32m     10\u001b[0m    \u001b[0mprint\u001b[0m\u001b[1;33m(\u001b[0m \u001b[1;34m'Person Table has duplicates'\u001b[0m \u001b[1;33m)\u001b[0m\u001b[1;33m\u001b[0m\u001b[1;33m\u001b[0m\u001b[0m\n\u001b[0;32m     11\u001b[0m \u001b[1;32melse\u001b[0m\u001b[1;33m:\u001b[0m\u001b[1;33m\u001b[0m\u001b[1;33m\u001b[0m\u001b[0m\n",
      "\u001b[1;32m~\\AppData\\Local\\Temp/ipykernel_15528/1759546208.py\u001b[0m in \u001b[0;36mcheckDuplicatesByCol\u001b[1;34m(df, listOfCols)\u001b[0m\n\u001b[0;32m     20\u001b[0m         )\n\u001b[0;32m     21\u001b[0m \u001b[1;33m\u001b[0m\u001b[0m\n\u001b[1;32m---> 22\u001b[1;33m         \u001b[1;32mraise\u001b[0m \u001b[0mValueError\u001b[0m\u001b[1;33m(\u001b[0m\u001b[1;34m'Data has duplicates'\u001b[0m\u001b[1;33m)\u001b[0m\u001b[1;33m\u001b[0m\u001b[1;33m\u001b[0m\u001b[0m\n\u001b[0m\u001b[0;32m     23\u001b[0m         \u001b[1;32mreturn\u001b[0m \u001b[1;32mTrue\u001b[0m\u001b[1;33m\u001b[0m\u001b[1;33m\u001b[0m\u001b[0m\n\u001b[0;32m     24\u001b[0m     \u001b[1;32melse\u001b[0m\u001b[1;33m:\u001b[0m\u001b[1;33m\u001b[0m\u001b[1;33m\u001b[0m\u001b[0m\n",
      "\u001b[1;31mValueError\u001b[0m: Data has duplicates"
     ]
    }
   ],
   "source": [
    "if checkDuplicates( df_p ):\n",
    "   print( 'Person Table has duplicates' )\n",
    "else:\n",
    "   print( 'Person Table Passed' )\n",
    "\n",
    "cols = [\n",
    "    'FirstName'\n",
    "]\n",
    "if checkDuplicatesByCol( df_p, cols ):\n",
    "   print( 'Person Table has duplicates' )\n",
    "else:\n",
    "   print( 'Person Table Passed' )"
   ]
  },
  {
   "cell_type": "markdown",
   "id": "5fc9f97f-fde6-4d51-9ff2-fcdd7b7b08de",
   "metadata": {},
   "source": [
    "#### Extra Notes\n",
    " * The above lines are designed to raise error to ensure the system is working correctly"
   ]
  },
  {
   "cell_type": "code",
   "execution_count": null,
   "id": "976eccd9-422d-4f54-8b3a-cc078dd82b01",
   "metadata": {},
   "outputs": [],
   "source": []
  },
  {
   "cell_type": "code",
   "execution_count": null,
   "id": "13260776-bd4a-4486-89ca-9427a6e234eb",
   "metadata": {},
   "outputs": [],
   "source": []
  }
 ],
 "metadata": {
  "kernelspec": {
   "display_name": "Python 3 (ipykernel)",
   "language": "python",
   "name": "python3"
  },
  "language_info": {
   "codemirror_mode": {
    "name": "ipython",
    "version": 3
   },
   "file_extension": ".py",
   "mimetype": "text/x-python",
   "name": "python",
   "nbconvert_exporter": "python",
   "pygments_lexer": "ipython3",
   "version": "3.9.7"
  }
 },
 "nbformat": 4,
 "nbformat_minor": 5
}
